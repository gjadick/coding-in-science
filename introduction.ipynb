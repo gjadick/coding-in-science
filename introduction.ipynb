{
 "cells": [
  {
   "cell_type": "markdown",
   "metadata": {},
   "source": [
    "The goal of these lessons is to teach simple coding techniques you can apply to your scientific research.\n",
    "In addition to the basics, you will learn to create your own programs, \n",
    "read and write data files, generate simulated data, compare experimental findings to theory,\n",
    "analyze and process images, present results with engaging plots, and more.\n",
    "\n",
    "The lessons are structured into different parts, which are meant to provide a natural progression\n",
    "from basic coding logic (taught in Python, but applicable to any coding language) to increasingly advanced\n",
    "applications. There will be interactive exercises, which is (in my evidence-backed opinion) the best way to learn anything.\n",
    "By completing these exercises between short lessons, you will also build a useful library of code snippets\n",
    "that you can reference and build upon over the course of your scientific research.\n",
    "\n",
    "Much of these lessons is inspired by the first few chapters of *Computational Physics* by Mark Newman, which is the textbook I read to learn most of what I know about coding.\n",
    "It is excellently written, and I highly recommend you check it out. Please let me know if you would like to borrow my copy. \n"
   ]
  },
  {
   "cell_type": "markdown",
   "metadata": {},
   "source": [
    "# What is coding?\n",
    "\n",
    "When we talk about \"coding\", we refer to the task of writing instructions for a computer to execute.\n",
    "This is likely familiar from your interactions in the regular world, but these instructions will be very different from those you typically give to humans.\n",
    "I think this is best illustrated by the \"exact instruction challenge\", typically for making\n",
    "a peanut butter and jelly sandwich, in which someone is tasked with giving unsparingly *exact* instructions, \n",
    "down to the most minute detail, considering every possibility in the construction of the PB&J.\n",
    "It has been popularized by introductory computer science classes.\n",
    "Here is a brief example video from Harvard's CS50 lectures:\n",
    "https://www.youtube.com/watch?v=okkIyWhN0iQ\n",
    "\n",
    "(If you just want the highlights, jump to the 5 minute mark. I think step 18 is when it gets pretty funny).\n",
    "\n",
    "\n",
    "## Coding languages\n",
    "\n",
    "Unfortunately (or fortunately?), computers are not nearly as intelligent as humans (yet?), \n",
    "so we require special, simple \"languages\" with\n",
    "rigid logic structures for conveying these detailed instructions. You have likely heard\n",
    "the names of some of these: Python, MATLAB, R, C, C++, among others. These have been designed for a\n",
    "range of various applications by clever people who have a knack for translating human-readable \n",
    "words into 1s and 0s for your computer. This is great news for us. We can focus on writing instructions,\n",
    "while the language translates everything for the computer behind the scenes.\n",
    "\n",
    "\n",
    "## Python filetypes (for the detail-oriented)\n",
    "\n",
    "This might be excessively detailed, but I think it is good to explain Python filetypes.\n",
    "As you may already know, the stuff after the \".\" in filenames is called the file extension, and it gives information \n",
    "about what the type of file is. File extensions are handy for telling your computer what program to use when you open a file.\n",
    "When you click a \".docx\", Microsoft Word opens. When you click \".txt\", a plain text editor opens. \n",
    "\n",
    "Similarly, Python has its own filetypes. The most basic is the \".py\" file. \n",
    "The actual content of this file is plain text, but the \".py\" in the name tells your computer that \n",
    "it is some kind of code/script to be executed. You can open and edit it in a plain text editor, but you probably need a special program\n",
    "to let you run it (as in, actually do stuff with it). \n",
    "\n",
    "The files we will work with are \".ipynb\"s, or iPython notebooks. Jupyter Lab is my prefered way for interfacing \n",
    "with these files. I have found that Python notebooks are handy for interactively running snippets of code one at a time using separate \"blocks\". You can also intersperse \n",
    "blocks of rich text (\"markdown\"), like this box, which is helpful for adding explanations between parts.\n",
    "You can double-click a markdown box to edit it. You hit the triangle play button at the top, or just \"shift\"-\"enter\" to execute any single block.\n",
    "A typical \".py\" file is different, just a block of Python-syntax text. You can run these from the terminal with `python my_filename.py`. This is useful for other things,\n",
    "and you may find this is better for your research purposes. For our tutorial, we'll use notebooks.\n",
    "\n",
    "## For later\n",
    "\n",
    "If you ever want to learn more, there are many nice introductions to Python online. The lessons here will be more tailored to things\n",
    "I suspect will be useful as you begin scientific research. The Python Tutorial offers a nice general set of lessons: https://docs.python.org/3/tutorial/\n",
    "\n",
    "## To the actual coding lessons\n",
    "\n",
    "This ends my obligatory introduction. Next, on to the fun stuff!"
   ]
  }
 ],
 "metadata": {
  "authors": [
   {
    "name": "Gia Jadick"
   }
  ],
  "kernelspec": {
   "display_name": "Python 3",
   "language": "python",
   "name": "python3"
  },
  "language_info": {
   "codemirror_mode": {
    "name": "ipython",
    "version": 3
   },
   "file_extension": ".py",
   "mimetype": "text/x-python",
   "name": "python",
   "nbconvert_exporter": "python",
   "pygments_lexer": "ipython3",
   "version": "3.8.2"
  },
  "title": "Intro to coding in science - introduction"
 },
 "nbformat": 4,
 "nbformat_minor": 4
}
