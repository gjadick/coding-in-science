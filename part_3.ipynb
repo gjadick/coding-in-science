{
 "cells": [
  {
   "cell_type": "markdown",
   "id": "c26032a8-9314-4578-b716-804ff8c59704",
   "metadata": {},
   "source": [
    "Finally, let's get into practical applications! In this part, we'll work with numbers and images, do some basic analysis, and learn how to display our findings.\n",
    "\n",
    "# Libraries\n",
    "These are all open-source libraries we had to install with pip after downloading Python. They do not come with the default Python installation, but they are very useful add-ons for the scientist. As you go through your research, keep in mind that there are many other useful libraries that have been created for Python. If you search around online, you may discover these, install them with pip, and use them to do your research more efficiently.\n",
    "\n",
    "## Implementing libraries\n",
    "To start using a library we've installed, we must `import` it in our Python file. Good coding practice should have these import statements at the top of your file. This helps one keep track of the external libraries we've imported. There are a few ways we can import. Here are some examples, which we'll explain below."
   ]
  },
  {
   "cell_type": "code",
   "execution_count": null,
   "id": "eb919b63-067e-4c5d-ae65-a3ab861275b9",
   "metadata": {},
   "outputs": [],
   "source": [
    "import scipy\n",
    "import numpy as np\n",
    "import matplotlib.pyplot as plt\n",
    "from scipy.optimize import curve_fit"
   ]
  },
  {
   "cell_type": "markdown",
   "id": "a10da593-88c2-4abe-8cc2-112b63482f8f",
   "metadata": {},
   "source": [
    "**1. `import scipy` - simple import**\n",
    "- This is the simplest method. We just write `import` followed by the name of the library we want (in this example, scipy).\n",
    "- To call functions, the syntax is `library_name.function_name()`, e.g. \"scipy.1d()\"\n",
    "\n",
    "**2. `import numpy as np` - import with alias**\n",
    "- This is exactly the same as above, except we give our library a nickname (I call it an alias) because typing extra letters all the time is exhausting. In this case, the alias is \"np\". There are a few standard ones you will see in other code, and \"np\" for \"numpy\" is a common one.\n",
    "- To call functions, the syntax is `alias_name.function_name()`, e.g. \"numpy.array()\"\n",
    "\n",
    "**3. `import matplotlib.pyplot as plt` - import sub-module**\n",
    "- This is just like the above methods, except we have an extra dot and name after the main library name.\n",
    "- This can include or not include an alias.\n",
    "\n",
    "**4. `from scipy.optimize import curve_fit` - direct import functions**\n",
    "- In this case, we bypass the need to include library names and directly import a function, in this case `curve_fit`.\n",
    "- If  you import with `from library_name import a_function`, the only thing you have imported is `function`. You call it like any other function, with no need for the library name.\n",
    "- This can include or not include sub-modules like above. In this case we use \"optimize\" from \"scipy\".\n",
    "\n"
   ]
  },
  {
   "cell_type": "markdown",
   "id": "507273dc-c664-40ce-9a6d-0a0b1c230e92",
   "metadata": {},
   "source": [
    "Now we'll start working with these libraries. A lot of their names have hints as to their utility. (\"Num\" for numbers, \"sci\" for science, \"plot\" for... well, plots). Most of these libraries have docstrings as well."
   ]
  },
  {
   "cell_type": "markdown",
   "id": "59e66f0a-c070-456f-a42f-9fbf19a1d6ed",
   "metadata": {},
   "source": [
    "### <mark>EX 3.1 - Get extra library info</mark>\n",
    "\n",
    "*Print the docstring of one of the libraries imported above.*"
   ]
  },
  {
   "cell_type": "code",
   "execution_count": null,
   "id": "5ae896a9-7cdb-4f26-ac51-c40c5785499b",
   "metadata": {},
   "outputs": [],
   "source": []
  },
  {
   "cell_type": "markdown",
   "id": "d7ccbe7a-fa75-48f4-a16f-d8147aa4ed3c",
   "metadata": {},
   "source": [
    "# NumPy\n",
    "NumPy is a powerful numerical computing package for Python. It comes with its own data classes, most notably the **numpy array**  (or just \"array\" for short), which is similar to a list or list of lists up to \"n\" dimensions (n-d), except it has some stricter requirements and even more useful functions and attributes. A Python **class** is a custom data type you can define to bundle data and functionality together for your unique application. We won't get in the specifics of classes here, but you can read more [here](https://docs.python.org/3/tutorial/classes.html). For our purposes, we will just use other library classes.\n",
    "\n",
    "## NumPy arrays\n",
    "NumPy is especially handy for working with multi-dimensional arrays. This is different from the Python list-of-lists in a few key ways:\n",
    "- array elements must all have the **dtype**, or data type\n",
    "- array sublists must all be the same length (think n-dimensional rectangular prism)\n",
    "- array **size** is fixed after creation (you cannot append/pop)\n",
    "- array **shape** can be changed, as long as the size is the same\n",
    "- arrays can act like vectors and matrices for math operations\n",
    "\n",
    "`dtype`, `size`, and `shape` are **attributes** of every NumPy array. `dtype` is the data type of each element, `size` gives you the total number of elements in an array, and `shape` gives you the number of elements along each axis. You can reference them with syntax like a function from a library, but without the parentheses:\n",
    "```\n",
    "arr_element_type = my_array.dtype\n",
    "arr_shape = my_array.shape\n",
    "arr_size = my_array.size\n",
    "```\n",
    "\n",
    "Let's get working with numpy arrays. There are a number of ways to create, or **initialize** an array:\n",
    "- convert a list to an array with `np.array(my_list)`\n",
    "- read a data file with `np.fromfile(filename)`\n",
    "- call a numpy function like `np.empty(), np.zeros(), np.ones()`\n",
    "\n",
    "For the functions `np.empty(), np.zeros(), np.ones()`, you typically pass one or two arguments:\n",
    "```\n",
    "my_array = np.ones(shape, dtype=data_type)\n",
    "```\n",
    "- `shape` can be either an integer (to create a vector) or a list of $n$ integers (to create an $n$-d matrix)\n",
    "- `data_type` is something like \"float\", \"int\", or other data types we learned about, with which the array is populated. It is optional and will d\n",
    "\n",
    "There are also some numpy-specific data types if you want to look into those: [link](https://numpy.org/doc/stable/reference/arrays.scalars.html)\n"
   ]
  },
  {
   "cell_type": "markdown",
   "id": "bb49ad37-5abe-4be0-8f6e-304014081c0f",
   "metadata": {},
   "source": [
    "### <mark>EX 3.2 - Our first numpy array</mark>\n",
    "*Based on what we've learned so far, let's try to predict the outputs of the following print statements.*\n",
    "\n",
    "1. Before running the cell below, look at the variable \"matrix\".\n",
    "2. What do you think will be the result of each print statement? Write your answers in comments on each line.\n",
    "3. Run the cell and check your answers."
   ]
  },
  {
   "cell_type": "code",
   "execution_count": null,
   "id": "8bcd69d9-bfaa-483e-be22-9cbb7faacf2b",
   "metadata": {},
   "outputs": [],
   "source": [
    "matrix = np.array([[1,2,3,4], [5,6,6,8], [8,9,10,11]], dtype=float)\n",
    "\n",
    "print(matrix)\n",
    "print(type(matrix))\n",
    "print(matrix.dtype)\n",
    "print(matrix.size)\n",
    "print(matrix.shape)"
   ]
  },
  {
   "cell_type": "markdown",
   "id": "e719bf65-3341-406b-ac79-24d0891e55c8",
   "metadata": {},
   "source": [
    "Some notes: `type(matrix)` is NOT the same as `matrix.dtype`, and `matrix.size` is equal to the product of the values in `matrix.shape`. Is this what you expected? Why? "
   ]
  },
  {
   "cell_type": "markdown",
   "id": "1eb9ac75-7a68-48e3-a084-4bf03e0f1e3c",
   "metadata": {},
   "source": [
    "## Working with NumPy arrays\n",
    "\n",
    "**1. Multi-dimensional indexing**\n",
    "\n",
    "Like lists, we can index arrays using brackets and index numbers, starting from 0. \n",
    "For multiple dimensions, there are a few ways we can get sub-elements. For a 2D array `M`, each single-index element `M[i]` will be a 1D array. To get a single number, we need two indices, like `M[i,j]`. As we increase the number of dimensions, this works the same way, recursively.\n",
    "\n",
    "The comma-separated indexing is unique to numpy arrays. Alternatively, you can index both arrays and lists-of-lists using extra brackets, so `M[i][j][k]` is equivalent to `M[i,j,k]`. This is because `M[i]` gives you a list, which you can then index again using brackets. I personally find this method somewhat clunkier and harder to parse.\n",
    "\n",
    "Once you have your initialized array, you can change individual elements (single elements or sub-arrays) using indices, e.g.\n",
    "```\n",
    "matrix = np.ones([2,2])\n",
    "matrix[0,0] = 100.0      # change an element\n",
    "matrix[1] = [5.0, 5.0]   # change a sub-array (size must match!)\n",
    "```\n",
    "\n",
    "**2. Reshaping**\n",
    "\n",
    "Once we have an array, we cannot change its size, but we can change its shape. For the scientist, this is most useful for reading in data. We usually read data into a 1D array, so we can easily use reshape to convert this into a 2D array (this could be a data table or an image). \n",
    "\n",
    "Remember that array size is equal to the product of the values in its shape. We can change the array shape to any other shape that fulfills this requirement using `reshape`:\n",
    "```\n",
    "reshaped_array = array.reshape(new_shape)\n",
    "```\n",
    "For example, we could reshape a 3x4 array into a 2x6 array (also 2D) or into a 1x12 (1D, fewer dimensions) or a 2x3x4 (3D, more dimensions). You can also swap dimension order, and reshape a 3x4 into a 4x3.\n",
    "\n",
    "You can also remove any multi-dimensionality or `flatten` an array into 1D. This is convenient, because you don't have to pass a \"new_shape\" argument.\n",
    "```\n",
    "flat_array = array.flatten()\n",
    "```\n",
    "\n",
    "**3. Type changing**\n",
    "\n",
    "All the elements of a numpy array must be the same, but you can reassign them using:\n",
    "```\n",
    "new_type_array = my_array.astype(new_type)\n",
    "```\n",
    "This might be handy if you want to change integers to floats for some math, or if you read in a text file and want to convert your strings to numbers.\n",
    "\n",
    "\n",
    "**4. Arithmetic**\n",
    "\n",
    "We can use the same math operators we learned in Part I with numpy arrays, either with one numpy array (any shape) and a constant, or with two numpy arrays (must be same size). The latter approach gives an element-wise result. Take a look at the outputs below."
   ]
  },
  {
   "cell_type": "code",
   "execution_count": null,
   "id": "77b7bf74-720f-43c5-8c85-1ead75dbf26c",
   "metadata": {},
   "outputs": [],
   "source": [
    "# two matrices, same shape\n",
    "A = np.array([[1,1,1], [2,2,2]], dtype=float)\n",
    "B = np.array([[1,2,3], [1,2,3]], dtype=float)\n",
    "\n",
    "print('addition\\n',         A+B)\n",
    "print('subtraction\\n',      A-B)\n",
    "print('division\\n',         A/B)\n",
    "print('integer division\\n', A//B)\n",
    "print('multiplication\\n',   A*B)"
   ]
  },
  {
   "cell_type": "code",
   "execution_count": null,
   "id": "d6d54952-727e-420e-8cb2-382b5057ca40",
   "metadata": {},
   "outputs": [],
   "source": [
    "# a constant and a matrix, any shape\n",
    "c = 2.5\n",
    "\n",
    "print('constant addition\\n',         A+c)\n",
    "print('constant subtraction\\n',      A-c)\n",
    "print('constant division\\n',         A/c)\n",
    "print('constant integer division\\n', A//c)\n",
    "print('constant multiplication\\n',   A*c)"
   ]
  },
  {
   "cell_type": "markdown",
   "id": "5896ccf5-959c-4b8b-81ea-d83470e74ab3",
   "metadata": {},
   "source": [
    "**5. Matrix operations**\n",
    "\n",
    "NumPy also has many built-in linear algebra functions for working with matrices and vectors (1D matrices). Here are just a few you may find useful:\n",
    "- `dot_prod = np.dot(vec1, vec2)` - get dot product of two vectors\n",
    "- `A_t = np.transpose(A)` - get transpose of matrix $A$\n",
    "- `A_inv = np.linalg.inv(A)` - get inverse of matrix $A$\n",
    "- `x = np.linalg.solve(A,b)` - solve $Ax = b$"
   ]
  },
  {
   "cell_type": "markdown",
   "id": "0b07144d-cd9d-478b-8697-d73cd3161ad4",
   "metadata": {},
   "source": [
    "\n",
    "### <mark>EX 3.3 - array dimensions</mark>\n",
    "*If we have a 4D matrix `M_4D`, how many dimensions does `M_4D[i,j]` have? How would you index a single element?*\n"
   ]
  },
  {
   "cell_type": "markdown",
   "id": "04a5ed46-b8a8-40d3-af72-3ac970abf49b",
   "metadata": {},
   "source": [
    "### <mark>EX 3.4 - difference between arrays and lists</mark>\n",
    "*I mentioned earlier that there are some key differences in lists and arrays. A big one is that you can't really do math on plain old lists. However, the multiplication operation gives an output for both lists and arrays. is there a difference?*\n",
    "\n",
    "1. Create a Python list and multiply it by a constant.\n",
    "2. Convert this list to a NumPy array and multiply it by the same constant.\n",
    "3. Is there a difference? Explain."
   ]
  },
  {
   "cell_type": "code",
   "execution_count": null,
   "id": "730a1377-3d6d-48b1-b0c3-d5fce4e8f8ca",
   "metadata": {},
   "outputs": [],
   "source": []
  },
  {
   "cell_type": "markdown",
   "id": "483a91fc-e9ae-47ef-a30a-4d717edb4a08",
   "metadata": {},
   "source": [
    "### <mark>EX 3.4 - modify an array</mark>\n",
    "*Create a 2D numpy array of any shape with all twos. Change the first element to your favorite number. Divide the last row by pi.*\n",
    "\n",
    "*Note: numpy comes with a saved value for pi, `np.pi`*"
   ]
  },
  {
   "cell_type": "code",
   "execution_count": null,
   "id": "934b0889-20de-42a7-8473-1a9a15158698",
   "metadata": {},
   "outputs": [],
   "source": [
    "\n",
    "\n"
   ]
  },
  {
   "cell_type": "markdown",
   "id": "d8337ddc-ff79-49f0-be34-761d018c7cf8",
   "metadata": {},
   "source": [
    "## Other NumPy math\n",
    "\n",
    "**1. Useful matrix metrics**\n",
    "```\n",
    "np.mean(x)     # get the mean\n",
    "np.std(x)      # get standard deviation\n",
    "np.var(x)      # get variance\n",
    "np.max(x)      # get maximum\n",
    "np.min(x)      # get minimum\n",
    "```\n",
    "\n",
    "These functions have an optional second argument, `axis`. You pass in an index corresponding to the dimension of the axis over which you want to do the operation. For example, `np.max(M, axis=0)` will return an array with size `M.shape[0]` with the maximum of each sub-array along the 0th (first) axis.\n",
    "\n",
    "There are also some functions that operate on a single constant or element-wise over a matrix.\n",
    "\n",
    "**2. Useful math**\n",
    "```\n",
    "np.sqrt(x)     # get square root\n",
    "np.exp(x)      # get e^x\n",
    "np.log(x)      # get the NATURAL logarithm (ln)\n",
    "np.log10(x)    # get the logarithm base 10\n",
    "```\n",
    "\n",
    "**3. Trigonometry (sin, cos, and tan)**\n",
    "```\n",
    "np.sin(x)      # get sine\n",
    "np.arcsin(x)   # get inverse sine\n",
    "np.rad2deg(x)  # convert degrees -> radians\n",
    "np.deg2rad(x)  # convert radians -> degrees\n",
    "```\n",
    "\n",
    "**4. Etc.**\n",
    "```\n",
    "np.round(x)    # round to nearest integer\n",
    "np.floor(x)    # round down\n",
    "np.ceil(x)     # round up\n",
    "```\n",
    "\n",
    "Here is a full list, in case you need other operations: [link](https://numpy.org/doc/stable/reference/routines.math.html)"
   ]
  },
  {
   "cell_type": "markdown",
   "id": "4c9c3979-e530-4f19-b8af-2a2113dec54b",
   "metadata": {},
   "source": [
    "## NumPy iterables\n",
    "\n",
    "You can use NumPy to generate lists of numbers, like with `range`:\n",
    "- `np.arange(start, stop, step)` - return evenly spaced values within the given interval (like `range`)\n",
    "- `np.linspace(start, stop, num)` - return \"num\" evenly spaced values over the given interval\n",
    "\n",
    "These both return numpy arrays."
   ]
  },
  {
   "cell_type": "markdown",
   "id": "084c1c1e-664f-4f2c-a8b2-661ab962f588",
   "metadata": {},
   "source": [
    "# Matplotlib Pyplot"
   ]
  },
  {
   "cell_type": "markdown",
   "id": "ab5dc3cd-abb7-4949-b6f3-8c48abd5784b",
   "metadata": {},
   "source": [
    "### <mark>EX 3.5 - read and plot data</mark>"
   ]
  },
  {
   "cell_type": "code",
   "execution_count": null,
   "id": "c3de182a-defb-4139-80c3-55a8dc49dcd4",
   "metadata": {},
   "outputs": [],
   "source": []
  },
  {
   "cell_type": "code",
   "execution_count": null,
   "id": "95319036-7cb0-49ad-a936-ecb17e7aa07e",
   "metadata": {},
   "outputs": [],
   "source": []
  },
  {
   "cell_type": "markdown",
   "id": "e1bea070-1780-4669-ad0f-c96f55e71a33",
   "metadata": {},
   "source": [
    "# SciPy"
   ]
  },
  {
   "cell_type": "markdown",
   "id": "cf61d8bc-470e-40b9-8646-65736789576a",
   "metadata": {},
   "source": [
    "### <mark>EX 3.6 - curve fitting</mark>"
   ]
  },
  {
   "cell_type": "code",
   "execution_count": null,
   "id": "eb9c37eb-3ed4-4abf-a78a-81836966cddf",
   "metadata": {},
   "outputs": [],
   "source": []
  },
  {
   "cell_type": "code",
   "execution_count": null,
   "id": "68bd2727-8c9e-42cf-9e7b-74a46a09aa77",
   "metadata": {},
   "outputs": [],
   "source": []
  },
  {
   "cell_type": "markdown",
   "id": "712edc27-5dc5-4f3a-b4a8-645ca98c205a",
   "metadata": {},
   "source": [
    "# Images"
   ]
  },
  {
   "cell_type": "markdown",
   "id": "b2911a50-1098-484f-88d0-95a129b2e3a3",
   "metadata": {},
   "source": [
    "### <mark>EX 3.7 - image analysis</mark>"
   ]
  },
  {
   "cell_type": "code",
   "execution_count": null,
   "id": "1ccc517d-8116-488b-ad75-6a88d18ff87b",
   "metadata": {},
   "outputs": [],
   "source": []
  }
 ],
 "metadata": {
  "kernelspec": {
   "display_name": "Python 3 (ipykernel)",
   "language": "python",
   "name": "python3"
  },
  "language_info": {
   "codemirror_mode": {
    "name": "ipython",
    "version": 3
   },
   "file_extension": ".py",
   "mimetype": "text/x-python",
   "name": "python",
   "nbconvert_exporter": "python",
   "pygments_lexer": "ipython3",
   "version": "3.11.3"
  }
 },
 "nbformat": 4,
 "nbformat_minor": 5
}
