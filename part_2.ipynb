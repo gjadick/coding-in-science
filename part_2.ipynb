{
 "cells": [
  {
   "cell_type": "markdown",
   "metadata": {},
   "source": [
    "Now that we have covered some coding basics, we have a better understanding of syntax, and we can reference our old examples to help us for more complicated programming. In Part II, we will begin some more science-specific applications. To begin doing that, we will begin to utilize other Python functions."
   ]
  },
  {
   "cell_type": "markdown",
   "metadata": {},
   "source": [
    "For our first analysis tasks, we will work with text files. \n",
    "\n",
    "# Opening text files\n",
    "\n",
    "For a text file, in Python, we can start with the `open()` function. The docstring for `open` has a lot of info if you want more details. We will cover the basic syntax for reading text files.\n",
    "\n",
    "```\n",
    "f = open(filename, mode)\n",
    "```\n",
    "- `f` is a variable that corresponds to a file object. It is not the same is the info in the file. But, we can use the file object to do basic operations with the file.\n",
    "- `filename` is a string with the full path to the file. If the file is in a folder, you can add folders and separate with slashes, like `\"folder/subfolder/more_subfolders/file.txt\"`. \n",
    "- `mode` must be one of a few options of strings. For our purposes, we will use `'r'`, `'w'`, or `'a'` for \"read\", \"write\", and \"append\" modes, respectively. Depending on the mode you choose, the functions for handling `f` will be different.\n"
   ]
  },
  {
   "cell_type": "markdown",
   "metadata": {},
   "source": [
    "### <mark>EX 2.1 - open a file</mark>\n",
    "\n",
    "*Using the syntax above, open the file \"quotes.txt\" in the folder \"data\". Use read mode. Try printing it and see what happens.*"
   ]
  },
  {
   "cell_type": "code",
   "execution_count": null,
   "metadata": {},
   "outputs": [],
   "source": [
    "\n"
   ]
  },
  {
   "cell_type": "markdown",
   "metadata": {},
   "source": [
    "# Reading text files\n",
    "\n",
    "We want to get the text from the file into a string, or a list of strings, so we can start to parse it. There are a few ways to do this. All the functions are methods of `f`, so we call them by using `f.function_name()`.\n",
    "\n",
    "- `f.read(num)` - this will read the first `num` number of characters into a single string. The `num` argument is optional. If you call `f.read()` with no argument, you get the whole file text.\n",
    "- `f.readline()` - this will read the first line, up to the first \"\\n\" (or new line). Calling it repeatedly gives you each subsequent line.\n",
    "- `f.readlines()` - this will read all the lines into a list of strings, divided by each \"\\n\".\n",
    "\n",
    "You can only use one of these per file read. You can think of the file as having a text cursor, and the process of reading a file moves the cursor along, until we are at the end and there is no more space to move the cursor. You can move the cursor back to the start of the file by re-opening the file.\n",
    "\n",
    "After you're done reading a file, you should close it: `f.close()`\n"
   ]
  },
  {
   "cell_type": "markdown",
   "metadata": {},
   "source": [
    "### <mark>EX 2.2 - read and print a file</mark>\n",
    "*Read the lines of the file into a list. Write a \"for\" loop to print each line. Close the file when you are done.*"
   ]
  },
  {
   "cell_type": "code",
   "execution_count": null,
   "metadata": {},
   "outputs": [],
   "source": [
    "\n",
    "\n"
   ]
  },
  {
   "cell_type": "markdown",
   "metadata": {},
   "source": [
    "# Strings\n",
    "\n",
    "When we read our file, it usually is not formatted in a nice way for handling data. It likely includes extraneous whitespace characters, normal spaces and also '\\n' (new line) or '\\t' (tab). Some lines might be totally empty. An empty string is just `''` or `\"\"`.\n",
    "\n",
    "Here are some example things you can do with strings: **replace text, strip whitespace, split into a list**. Take a look at each output. We will use these functions to read a file into a specific format. "
   ]
  },
  {
   "cell_type": "code",
   "execution_count": null,
   "metadata": {},
   "outputs": [],
   "source": [
    "s = '        test string, to do some tests   '\n",
    "print(s)"
   ]
  },
  {
   "cell_type": "code",
   "execution_count": null,
   "metadata": {},
   "outputs": [],
   "source": [
    "# replacing text\n",
    "print(s.replace('test', 'TEST'))\n",
    "print(s)  # s is unchanged"
   ]
  },
  {
   "cell_type": "code",
   "execution_count": null,
   "metadata": {},
   "outputs": [],
   "source": [
    "# removing whitespace\n",
    "print(s.strip())"
   ]
  },
  {
   "cell_type": "code",
   "execution_count": null,
   "metadata": {},
   "outputs": [],
   "source": [
    "# split into a list  \n",
    "print(s.split(','))   # split on comma\n",
    "print(s.split(' '))   # split on one space\n",
    "\n",
    "# by default, we split on all whitespace.\n",
    "# this can get rid of extra spaces!\n",
    "print(s.split())"
   ]
  },
  {
   "cell_type": "markdown",
   "metadata": {},
   "source": [
    "# Lists\n",
    "\n",
    "Lists are probably the most important variable type to understand when working with scientific data. We use lists to handle parameters, variables, and tables of information to analyze. We often want to re-format file text into some kind of list or list of lists (i.e. a table).\n",
    "\n",
    "Like strings, lists have their own functions and methods that are important for expertly implementing them. Here is a short overview of the ones that are most useful for the scientist.\n",
    "\n",
    "**1. Length**\n",
    "\n",
    "The **length** of a list, or number of list elements, is found using the `len` function:\n",
    "```\n",
    "num_elements = len(my_list)\n",
    "```\n",
    "\n",
    "**2. Indexing**\n",
    "\n",
    "*Images from [learnbyexample.org](https://www.learnbyexample.org/python-list-slicing/)*\n",
    "\n",
    "To access a single element from a list, we use **indexing** by placing an integer in brackets after a list:\n",
    "```\n",
    "one_element = full_list[index]\n",
    "```\n",
    "The first element has index `0` and the last element has index `len(my_list) - 1`. Starting with 0 might seem weirdly complicated--why not start with 1?--but it actually becomes useful for iterating through the list in \"for\" loops with the \"range\" function. (Not all languages index from 0, with MATLAB being one notable example of indexing from 1).\n",
    "\n",
    "![indexing visual](imgs/basics_indexing.png)\n",
    "\n",
    "**3. Slicing**\n",
    "\n",
    "Similarly, to access partial elements of a list, we use **slicing** using integers in brackets after a list:\n",
    "```\n",
    "partial_list = full_list[start:stop:step]\n",
    "```\n",
    "You might notice these arguments \"start\", \"stop\", and \"step\" look similar to those for the \"range\" function. They more or less operate in the same way. Each subsequent colon is optional. Including only `start` gives a single value (indexing), including `start` and `stop` gives a continuous slice, and including all three with gives you a slice of every `skip` elements.\n",
    "\n",
    "Unlike range, we can also skip values in our slice notation and leave a space blank to indicate using the default value. The default `start` is 0, at the beginning of the list. The default `stop` is len(lst)-1, the end of the list. The default `step` is 1.\n",
    "\n",
    "Be mindful that **slicing is not like a function. We slice using brackets (not parentheses) and colons (not commas).**\n",
    "\n",
    "![slicing visual](imgs/basics_slicing.png)\n",
    "\n",
    "We can also index and slice backwards using negative numbers. Notably, the last element has index -1. You can also reverse a list order by using a negative `step` value.\n",
    "\n",
    "![backwards indexing visual](imgs/basics_indexing_negative.png)\n",
    "\n",
    "\n",
    "**4. Sorting**\n",
    "\n",
    "We can call the `lst.sort()` function to alphabetize (for string elements) or order (for number elements). This function will not work on lists that mix strings and numbers, but we can mix floats and integers. The function returns `None`, but it stores the newly sorted list in the old variable `lst`. Some functions will return things and leave the original variable unchanged, others change the original variable, so it is important to keep track of these differences in functions. You can always look things up if you forget (as I often do).\n",
    "\n",
    "Also note that an empty list is just `[]`. It has length 0.\n",
    "\n",
    "Example usages:"
   ]
  },
  {
   "cell_type": "code",
   "execution_count": null,
   "metadata": {},
   "outputs": [],
   "source": [
    "l = ['test','list','for','testing']\n",
    "print(l)"
   ]
  },
  {
   "cell_type": "code",
   "execution_count": null,
   "metadata": {},
   "outputs": [],
   "source": [
    "# index\n",
    "for ind in range(len(l)):\n",
    "    print('index', ind, l[ind])"
   ]
  },
  {
   "cell_type": "code",
   "execution_count": null,
   "metadata": {},
   "outputs": [],
   "source": [
    "# alphabetize\n",
    "l.sort()  # note, this function returns \"None\" and changes the original variable\n",
    "print(l)"
   ]
  },
  {
   "cell_type": "code",
   "execution_count": null,
   "metadata": {},
   "outputs": [],
   "source": [
    "# reverse\n",
    "l_reversed = l[::-1]\n",
    "print(l_reversed)"
   ]
  },
  {
   "cell_type": "markdown",
   "metadata": {},
   "source": [
    "There are some other key list functions we can do. See below."
   ]
  },
  {
   "cell_type": "code",
   "execution_count": null,
   "metadata": {},
   "outputs": [],
   "source": [
    "# join a list of strings into one string\n",
    "print((' ').join(l))\n",
    "print(('_SPACE_').join(l))"
   ]
  },
  {
   "cell_type": "code",
   "execution_count": null,
   "metadata": {},
   "outputs": [],
   "source": [
    "# check the number of elements in a list (length)\n",
    "length = len(l)\n",
    "print(length)"
   ]
  },
  {
   "cell_type": "code",
   "execution_count": null,
   "metadata": {},
   "outputs": [],
   "source": [
    "# `append` or add an element to the end\n",
    "l.append('an appended string')\n",
    "print(l)\n",
    "l.append('a second string')\n",
    "print(l)"
   ]
  },
  {
   "cell_type": "code",
   "execution_count": null,
   "metadata": {},
   "outputs": [],
   "source": [
    "# `pop` or remove the last element and assign it to a variable\n",
    "element_last = l.pop()\n",
    "print(element_last)\n",
    "print(l)"
   ]
  },
  {
   "cell_type": "markdown",
   "metadata": {},
   "source": [
    "\n",
    "We are going to try a more involved example now! As you write your code, remember that you don't have to write the whole thing before testing the output. At each step along the way, I like to remember this rhyme:\n",
    "\n",
    "![when in doubt print](imgs/print.png)\n",
    "\n",
    "### <mark>EX 2.3 - read a file into a list</mark>\n",
    "\n",
    "*Using the methods we've learned above, do the following:*\n",
    "\n",
    "1. Open, read, and close the text content of \"quotes.txt\"\n",
    "2. Format the text into a list of each line. **Do not include blank lines.**\n",
    "    - There is a file-reading function that does this for us, but it does not remove blank lines.\n",
    "4. Initialize a new empty list and, for each quote, append a sublist with three elements, [quote, author, book]. **Remove trailing whitespace from each element**\n",
    "5. Store this final list in a variable of your choice.\n",
    "\n",
    "*Also, feel free to check the file content by double clicking it in your file browser on the left, if you want. This will help you get an idea of its structure. This is often critical for helping read files into the proper structure.*"
   ]
  },
  {
   "cell_type": "code",
   "execution_count": null,
   "metadata": {},
   "outputs": [],
   "source": [
    "\n",
    "\n",
    "\n"
   ]
  },
  {
   "cell_type": "markdown",
   "metadata": {},
   "source": [
    "## Writing text files\n",
    "\n",
    "Similar to reading existing text files, we can create and write to new text files. This uses the same syntax for opening a file:\n",
    "```\n",
    "f = open(filename, mode)\n",
    "```\n",
    "We can specify the mode as `'w'`, to write to a file. This overwrites any existing file contents.\n",
    "We could also use `'a'`, for appending text to the end of the existing file.\n",
    "These methods work the same way for a new file.\n",
    "The path to the file (the folders and subfolders) should already exist, but the filename itself does not need to exist. You should include an extension like \".txt\" when you choose a new filename.\n",
    "\n",
    "(You can actually create the folders if you want. We will get to that in part 3, when we talk about importing modules. For now, let's just use existing ones).\n",
    "\n",
    "\n",
    "For writing data to our file, the functions look very similar for reading data:\n",
    "- `f.write(my_string)` - this will write a string to a file.\n",
    "- `f.writelines(my_list)` - this will write a list of strings to a file.\n",
    "\n",
    "Check the currently existing files in the \"data\" folder. Then run the code below and see what happens.\n",
    "\n"
   ]
  },
  {
   "cell_type": "code",
   "execution_count": null,
   "metadata": {},
   "outputs": [],
   "source": [
    "f = open('data/test.txt', 'w')\n",
    "f.writelines(l)\n",
    "f.close()"
   ]
  },
  {
   "cell_type": "markdown",
   "metadata": {},
   "source": [
    "If we want to write multiple lines, we need to make sure to include new line '\\n' characters. Let's try this instead:"
   ]
  },
  {
   "cell_type": "code",
   "execution_count": null,
   "metadata": {},
   "outputs": [],
   "source": [
    "f = open('data/test.txt', 'w')\n",
    "f.writelines('\\n'.join(l))\n",
    "f.close()"
   ]
  },
  {
   "cell_type": "markdown",
   "metadata": {},
   "source": [
    "## Writing spreadsheet files (CSV)\n",
    "\n",
    "A nice way to format your data is in a **comma-separated-value (CSV or .csv) file**. This is just a plain text file, where every line corresponds to a spreadsheet row, and each cell in a row is separated by a comma in the text file. Each row does not need to have the same number of cells in it. You can have blank rows with no content. \n",
    "\n",
    "\n",
    "### <mark>EX 2.4 - read a file into a list</mark>\n",
    "\n",
    "*Let's try reading and writing a CSV.*\n",
    "\n",
    "1. Read the text from \"data/schools.csv\" into a list of lines. Take a look at the format of each line.\n",
    "2. Following the format, append your own line(s) with data from you and nearby neighbors.\n",
    "3. Write your list to a new file \"more_schools.csv\" in a folder called \"output\". You may need to create this folder.\n",
    "4. Open your newly written .csv file with a spreadsheet program like Libre OfficeCalc, Microsoft Excel, or Numbers."
   ]
  },
  {
   "cell_type": "code",
   "execution_count": null,
   "metadata": {},
   "outputs": [],
   "source": [
    "\n",
    "\n",
    "\n"
   ]
  },
  {
   "cell_type": "markdown",
   "metadata": {},
   "source": [
    "# Formatted printing\n",
    "\n",
    "Also useful for writing to text files is formatting strings.\n",
    "You can insert variables into strings using format strings, which looks like `print(f\"your stuff here {a_variable} {another_variable}\")`.\n",
    "You start with an \"f\" (no quotes) before a string (with quotes) that encloses your variables in curly brackets {}. \n",
    "Depending on the variable, you can do extra formatting of the variables within the strings. For floats, you can truncate the decimals.\n"
   ]
  },
  {
   "cell_type": "code",
   "execution_count": null,
   "metadata": {},
   "outputs": [],
   "source": [
    "number = 10.123456789\n",
    "name = \"Dorothy\"\n",
    "location = \"not Kansas\"\n",
    "\n",
    "# manipulating decimals\n",
    "print(f'Three decimals - {number:.3f}')\n",
    "print(f'Zero decimals - {number:.0f}')\n",
    "print()\n",
    "\n",
    "# manipulating total characters, right justify numbers\n",
    "print(f'Eight total characters - {number:8.0f}')\n",
    "print(f'Eight total characters - {number:8.3f}')\n",
    "print()\n",
    "\n",
    "# combining strings\n",
    "print(f'{name} is located in {location}!')"
   ]
  },
  {
   "cell_type": "markdown",
   "metadata": {},
   "source": [
    "### <mark>EX 2.5 - write a new file</mark>\n",
    "\n",
    "*Let's change our text file into something new and output it into a new file. Pick one of the quotes from the file we read in earlier.*\n",
    "\n",
    "1. Choose a word (or two) and switch it to a new word. The more absurd the better. Try to have it make sense.\n",
    "2. Change the author and book to your own name.\n",
    "3. Create an \"output\" folder and write your new quote to a file in this folder \"new_quotes.txt\".\n",
    "4. If you have extra time, append other modified quotes.\n",
    "\n",
    "*Some words are capitalized and others are lowercase. Verbs have different tenses. Make sure to handle these different cases.*"
   ]
  },
  {
   "cell_type": "code",
   "execution_count": null,
   "metadata": {},
   "outputs": [],
   "source": [
    "\n",
    "\n",
    "\n"
   ]
  },
  {
   "cell_type": "markdown",
   "metadata": {},
   "source": [
    "# Putting everything together\n",
    "\n",
    "Not all data is nicely formatted. For example, our file reading functions always read in string types, but sometimes we want to work with numbers and must do type conversions. At the same time, numbers and strings might be interspersed in the same line. Other lines might be exceptions that do not include all the data we want. (This is common in science, especially clinical or experimental work. You might try to keep track of all the data, but miss elements for certain patients or trials).\n",
    "\n",
    "Quick tip! \n",
    "**In a \"for\" loop or an \"if\" statement, if you want to do nothing, you can write `pass`**, e.g.:\n",
    "```\n",
    "# this does nothing\n",
    "for x in my_list:\n",
    "    pass\n",
    "```\n",
    "\n",
    "### <mark>EX 2.6 - Complicated text file</mark>\n",
    "\n",
    "*Look at the file \"data/olympics.txt\". Each line has multiple elements separated by tabs. The first line is a header telling what each element is. Note that some of the games were cancelled due to world wars.*\n",
    "\n",
    "1. Read in the text of \"olympics.txt\".\n",
    "2. Create a list of lists tabulating the data.\n",
    "   - think about what separates each item in a line. Is it a space? A tab (\"\\t\")? A comma?\n",
    "   - you can initialize an empty list outside of a \"for\" loop as `[]`.\n",
    "3. Define a function to calculate the average and standard deviation of a list of floats.\n",
    "   - you can initalize a number outside of a \"for\" loop as `0`.\n",
    "   - you can call already-defined functions within new function definitions.\n",
    "5. Use your functions to calculate the average and standard deviation year of the Olympics <mark>**that were not cancelled**</mark>.\n",
    "    - The data lines when Olympics were cancelled have unique formatting. To handle them, you might need an \"if\" statement.\n",
    "7. Print your results out to 3 decimal places.\n",
    "\n",
    "\n",
    "\n",
    "*Remember the equations for average $\\overline{x}$ and standard deviation $\\sigma$ over $N$ numbers:*\n",
    "$$\n",
    "\\overline{x} = \\sum_i^N x_i\n",
    "$$\n",
    "$$\n",
    "\\sigma = \\sqrt{\\frac{\\sum_i^N (x_i - \\overline{x})^2}{N}}\n",
    "$$\n",
    "\n",
    "*Data in olympics.txt from [Whereig.com](https://www.whereig.com/olympics/host-cities.html)*"
   ]
  },
  {
   "cell_type": "code",
   "execution_count": null,
   "metadata": {},
   "outputs": [],
   "source": [
    "\n",
    "\n"
   ]
  },
  {
   "cell_type": "markdown",
   "metadata": {},
   "source": [
    "### <mark>EX 2.7 - Bonus</mark>\n",
    "\n",
    "*If you finish the above task early, try computing the number of Olympics in each continent. Which continent had the most Olympics? The least?*"
   ]
  },
  {
   "cell_type": "code",
   "execution_count": null,
   "metadata": {},
   "outputs": [],
   "source": [
    "\n",
    "\n",
    "\n"
   ]
  }
 ],
 "metadata": {
  "authors": [
   {
    "name": "Gia Jadick"
   }
  ],
  "kernelspec": {
   "display_name": "Python 3",
   "language": "python",
   "name": "python3"
  },
  "language_info": {
   "codemirror_mode": {
    "name": "ipython",
    "version": 3
   },
   "file_extension": ".py",
   "mimetype": "text/x-python",
   "name": "python",
   "nbconvert_exporter": "python",
   "pygments_lexer": "ipython3",
   "version": "3.8.2"
  },
  "title": "Intro to coding in science - part II - data"
 },
 "nbformat": 4,
 "nbformat_minor": 4
}
