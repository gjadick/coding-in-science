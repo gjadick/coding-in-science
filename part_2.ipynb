{
 "cells": [
  {
   "cell_type": "markdown",
   "metadata": {},
   "source": [
    "Now that we have covered some coding basics, we have a better understanding of syntax, and we can reference our old examples to help us for more complicated programming. In Part II, we will begin some more science-specific applications. To begin doing that, we will begin to utilize other Python functions."
   ]
  },
  {
   "cell_type": "markdown",
   "metadata": {},
   "source": [
    "For our first analysis tasks, we will work with text files. \n",
    "\n",
    "# Opening text files\n",
    "\n",
    "For a text file, in Python, we can start with the `open()` function. The docstring for `open` has a lot of info if you want more details. We will cover the basic syntax for reading text files.\n",
    "\n",
    "```\n",
    "f = open(filename, mode)\n",
    "```\n",
    "- `f` is a variable that corresponds to a file object. It is not the same is the info in the file. But, we can use the file object to do basic operations with the file.\n",
    "- `filename` is a string with the full path to the file. If the file is in a folder, you can add folders and separate with slashes, like `\"folder/subfolder/more_subfolders/file.txt\"`. \n",
    "- `mode` must be one of a few options of strings. For our purposes, we will use `'r'`, `'w'`, or `'a'` for \"read\", \"write\", and \"append\" modes, respectively. Depending on the mode you choose, the functions for handling `f` will be different.\n"
   ]
  },
  {
   "cell_type": "markdown",
   "metadata": {},
   "source": [
    "### <mark>EX 2.1 - open a file</mark>\n",
    "\n",
    "*Using the syntax above, open the file \"quotes.txt\" in the folder \"data\". Try printing it and see what happens.*"
   ]
  },
  {
   "cell_type": "code",
   "execution_count": null,
   "metadata": {},
   "outputs": [],
   "source": [
    "\n",
    "\n",
    "\n"
   ]
  },
  {
   "cell_type": "markdown",
   "metadata": {},
   "source": [
    "# Reading text files\n",
    "\n",
    "We want to get the text from the file into a string, or a list of strings, so we can start to parse it. There are a few ways to do this. All the functions are methods of `f`, so we call them by using `f.function_name()`.\n",
    "\n",
    "- `f.read(N)` - this will read the first `N` number of characters into a single string. The `N` argument is optional. If you call `f.read()`, you get the whole file text.\n",
    "- `f.readline()` - this will read the first line, up to the first \"\\n\" (or new line). Calling it repeatedly gives you each subsequent line.\n",
    "- `f.readlines()` - this will read all the lines into a list of strings, divided by each \"\\n\".\n",
    "\n",
    "You can only use one of these per file read. You can think of the file as having a text cursor, and the process of reading a file moves the cursor along, until we are at the end and there is no more space to move the cursor.\n",
    "\n",
    "After you're done reading a file, you should close it: `f.close()`\n"
   ]
  },
  {
   "cell_type": "markdown",
   "metadata": {},
   "source": [
    "### <mark>EX 2.2 - read and print a file</mark>\n",
    "*Read and print the contents of the file you opened in the previous exercise. Close it when you are done.*"
   ]
  },
  {
   "cell_type": "code",
   "execution_count": null,
   "metadata": {},
   "outputs": [],
   "source": []
  },
  {
   "cell_type": "markdown",
   "metadata": {},
   "source": [
    "# Strings\n",
    "\n",
    "When we read our file, it usually is not formatted in a nice way for handling data. It likely includes extraneous whitespace characters, normal spaces and also '\\n' (new line) or '\\t' (tab). Some lines might be totally empty. An empty string is just `''` or `\"\"`.\n",
    "\n",
    "Here are some example things you can do with strings. Take a look at each output. We will use these functions to read a file into a specific format. "
   ]
  },
  {
   "cell_type": "code",
   "execution_count": null,
   "metadata": {},
   "outputs": [],
   "source": [
    "s = '        test string, to do some tests   '\n",
    "print(s)"
   ]
  },
  {
   "cell_type": "code",
   "execution_count": null,
   "metadata": {},
   "outputs": [],
   "source": [
    "# replacing text\n",
    "print(s.replace('test', 'TEST'))"
   ]
  },
  {
   "cell_type": "code",
   "execution_count": null,
   "metadata": {},
   "outputs": [],
   "source": [
    "# removing whitespace\n",
    "print(s.strip())"
   ]
  },
  {
   "cell_type": "code",
   "execution_count": null,
   "metadata": {},
   "outputs": [],
   "source": [
    "# split into a list  \n",
    "print(s.split(','))   # split on comma\n",
    "print(s.split(' '))   # split on one space\n",
    "\n",
    "# by default, we split on all whitespace.\n",
    "# this can get rid of extra spaces!\n",
    "print(s.split())"
   ]
  },
  {
   "cell_type": "markdown",
   "metadata": {},
   "source": [
    "# Lists\n",
    "\n",
    "Lists are probably the most important variable type to understand when working with scientific data. We use lists to handle parameters, variables, and tables of information to analyze. We often want to re-format file text into some kind of list or list of lists (i.e. a table).\n",
    "\n",
    "Like strings, lists have their own functions and methods that are important for expertly implementing them. \n",
    "\n",
    "**Indexing**\n",
    "\n",
    "The most fundamental list principle is probably \"indexing\", or accessing each individual element. The elements of a Python list `lst` are denoted as `lst[0], lst[1], lst[2], ...` until you reach the end of the list. The number of elements in a list can be found as `len(lst)`. Since the first element of a list has index `0`, the final element has index `len(lst)-1`. This might seem weirdly complicated--why not start with 1?--but it actually becomes useful for iterating through the list in \"for\" loops with the \"range\" function. You can also go backwards using negative indices. The last element also has index `-1`.\n",
    "```\n",
    "first_element =         lst[0]\n",
    "last_element =          lst[len(lst)-1]\n",
    "also_the_last_element = lst[-1]\n",
    "```\n",
    "\n",
    "**Slicing**\n",
    "\n",
    "The simplest form of indexing uses just one number. We can also use multiple numbers, separated by a colon, to grab part of a list. For example, `lst[0:N]` will be a list of the first $N$ elements of `lst`. (Note that since the first element has index 0, this sublist includes `lst[0]` but omits `lst[N]`). If we want to index from the start of the list or to the end of the list, we can also omit the index entirely and just use the colon.\n",
    "```\n",
    "N = len(lst)//2\n",
    "whole_list = lst[:]\n",
    "first_half = lst[:N]\n",
    "last_half =  lst[N:]\n",
    "middle =     lst[N//2 : N + N//2]\n",
    "```\n",
    "\n",
    "**Direction**\n",
    "\n",
    "Finally, we can add a second colon that gives us the direction we move indexing the list. This can help us skip over values, getting every 2nd, 3rd, ... Nth value. We can also go backwards, and flip the direction of the list.\n",
    "```\n",
    "every_other_element = lst[::2]\n",
    "reversed_order      = lst[::-1]\n",
    "```\n",
    "\n",
    "We can combine indexing, slicing, and direction by placing or omitting values between the colons we want to use.\n",
    "\n",
    "\n",
    "**Sorting**\n",
    "\n",
    "We can call the `lst.sort()` function to alphabetize (for string elements) or order (for number elements). This function will not work on lists that mix strings and numbers, but we can mix floats and ints. The function returns `None`, but it stores the newly sorted list in the old variable `lst`. Some functions will return things and leave the original variable unchanged, others change the original variable, so it is important to keep track of these differences in functions. You can always look things up if you forget (as I often do).\n",
    "\n",
    "Also note that an empty list is just `[]`. It has length 0.\n",
    "\n",
    "Example usages:"
   ]
  },
  {
   "cell_type": "code",
   "execution_count": null,
   "metadata": {},
   "outputs": [],
   "source": [
    "l = ['test','list','for','testing']\n",
    "print(l)"
   ]
  },
  {
   "cell_type": "code",
   "execution_count": null,
   "metadata": {},
   "outputs": [],
   "source": [
    "# index\n",
    "for ind in range(len(l)):\n",
    "    print('index', ind, l[ind])"
   ]
  },
  {
   "cell_type": "code",
   "execution_count": null,
   "metadata": {},
   "outputs": [],
   "source": [
    "# alphabetize\n",
    "l.sort()  # note, this function returns \"None\" and changes the original variable\n",
    "print(l)"
   ]
  },
  {
   "cell_type": "code",
   "execution_count": null,
   "metadata": {},
   "outputs": [],
   "source": [
    "# reverse\n",
    "l_reversed = l[::-1]\n",
    "print(l_reversed)"
   ]
  },
  {
   "cell_type": "markdown",
   "metadata": {},
   "source": [
    "There are some other key list functions we can do. See below."
   ]
  },
  {
   "cell_type": "code",
   "execution_count": null,
   "metadata": {},
   "outputs": [],
   "source": [
    "# join a list of strings into one string\n",
    "print((' ').join(l))\n",
    "print(('_SPACE_').join(l))"
   ]
  },
  {
   "cell_type": "code",
   "execution_count": null,
   "metadata": {},
   "outputs": [],
   "source": [
    "# check the number of elements in a list (length)\n",
    "length = len(l)\n",
    "print(length)"
   ]
  },
  {
   "cell_type": "code",
   "execution_count": null,
   "metadata": {},
   "outputs": [],
   "source": [
    "# `append` or add an element to the end\n",
    "l.append('an appended string')\n",
    "print(l)\n",
    "l.append('a second string')\n",
    "print(l)"
   ]
  },
  {
   "cell_type": "code",
   "execution_count": null,
   "metadata": {},
   "outputs": [],
   "source": [
    "# `pop` or remove the last element and assign it to a variable\n",
    "element_last = l.pop()\n",
    "print(element_last)\n",
    "print(l)"
   ]
  },
  {
   "cell_type": "markdown",
   "metadata": {},
   "source": [
    "### <mark>EX 2.3 - read a file into a list</mark>\n",
    "\n",
    "*Using the methods we've learned above, do the following:*\n",
    "\n",
    "1. Open, read, and close the text content of \"quotes.txt\"\n",
    "2. Format the text into a list of each line. Do not include blank lines.\n",
    "3. Format each element of your main list into a sublist with three elements, [quote, author, book]\n",
    "4. Store this final list in a variable of your choice.\n",
    "\n",
    "*There are multiple ways to do this! Try it on your own, then compare with a neighbor.\n",
    "As you write your code, if you get confused, I like to remember this rhyme:*\n",
    "\n",
    "![when in doubt print](imgs/print.png)\n",
    "\n",
    "*Also, feel free to check the file content by double clicking it in your file browser on the left, if you want. This will help you get an idea of its structure. This is often critical for helping read files into the proper structure.*"
   ]
  },
  {
   "cell_type": "code",
   "execution_count": null,
   "metadata": {},
   "outputs": [],
   "source": [
    "\n",
    "\n",
    "\n"
   ]
  },
  {
   "cell_type": "markdown",
   "metadata": {},
   "source": [
    "## Writing text files\n",
    "\n",
    "Similar to reading existing text files, we can create and write to new text files. This uses the same syntax for opening a file:\n",
    "```\n",
    "f = open(filename, mode)\n",
    "```\n",
    "We can specify the mode as `'w'`, to write to a file. This overwrites any existing file contents.\n",
    "We could also use `'a'`, for appending text to the end of the existing file.\n",
    "These methods work the same way for a new file.\n",
    "The path to the file (the folders and subfolders) should already exist, but the filename itself does not need to exist. You should include an extension like \".txt\" when you choose a new filename.\n",
    "\n",
    "(You can actually create the folders if you want. We will get to that in part 3, when we talk about importing modules. For now, let's just use existing ones).\n",
    "\n",
    "\n",
    "For writing data to our file, the functions look very similar for reading data:\n",
    "- `f.write(my_string)` - this will write a string to a file.\n",
    "- `f.writelines(my_list)` - this will write a list of strings to a file.\n",
    "\n",
    "Check the currently existing files in the \"data\" folder. Then run the code below and see what happens.\n",
    "\n"
   ]
  },
  {
   "cell_type": "code",
   "execution_count": null,
   "metadata": {},
   "outputs": [],
   "source": [
    "f = open('data/test.txt', 'w')\n",
    "f.writelines(l)\n",
    "f.close()"
   ]
  },
  {
   "cell_type": "markdown",
   "metadata": {},
   "source": [
    "If we want to write multiple lines, we need to make sure to include new line '\\n' characters. Let's try this instead:"
   ]
  },
  {
   "cell_type": "code",
   "execution_count": null,
   "metadata": {},
   "outputs": [],
   "source": [
    "f = open('data/test.txt', 'w')\n",
    "f.writelines('\\n'.join(l))\n",
    "f.close()"
   ]
  },
  {
   "cell_type": "markdown",
   "metadata": {},
   "source": [
    "# Formatted printing\n",
    "\n",
    "Also useful for writing to text files is formatting strings.\n",
    "You can insert variables into strings using format strings, which looks like `print(f\"your stuff here {a_variable} {another_variable}\")`.\n",
    "You start with an \"f\" (no quotes) before a string (with quotes) that encloses your variables in curly brackets {}. \n",
    "Depending on the variable, you can do extra formatting of the variables within the strings. For floats, you can truncate the decimals.\n"
   ]
  },
  {
   "cell_type": "code",
   "execution_count": null,
   "metadata": {},
   "outputs": [],
   "source": [
    "number = 10.123456789\n",
    "name = \"Dorothy\"\n",
    "location = \"not Kansas\"\n",
    "\n",
    "# manipulating decimals\n",
    "print(f'Three decimals - {number:.3f}')\n",
    "print(f'Zero decimals - {number:.0f}')\n",
    "print()\n",
    "\n",
    "# manipulating total characters, right justify numbers\n",
    "print(f'Eight total characters - {number:8.0f}')\n",
    "print(f'Eight total characters - {number:8.3f}')\n",
    "print()\n",
    "\n",
    "# combining strings\n",
    "print(f'{name} is located in {location}!')"
   ]
  },
  {
   "cell_type": "markdown",
   "metadata": {},
   "source": [
    "### <mark>EX 2.4 - write a new file</mark>\n",
    "\n",
    "*Let's change our text file into something new and output it into a new file. Pick one of the quotes from the file we read in earlier.*\n",
    "\n",
    "1. Choose a word (or two) and switch it to a new word. The more absurd the better. Try to have it make sense.\n",
    "2. Change the author and book to your own name.\n",
    "3. Write your new quote to a file \"quotes_new.txt\" in the \"data\" folder.\n",
    "4. If you have extra time, append other modified quotes.\n",
    "\n",
    "*Some words are capitalized and others are lowercase. Verbs have different tenses. Make sure to handle these different cases.*"
   ]
  },
  {
   "cell_type": "code",
   "execution_count": null,
   "metadata": {},
   "outputs": [],
   "source": [
    "\n",
    "\n",
    "\n"
   ]
  },
  {
   "cell_type": "markdown",
   "metadata": {},
   "source": [
    "# Putting everything together\n",
    "\n",
    "Not all data is nicely formatted. For example, our file reading functions always read in string types, but sometimes we want to work with numbers and must do type conversions. At the same time, numbers and strings might be interspersed in the same line. Other lines might be exceptions that do not include all the data we want. (This is common in science, especially clinical or experimental work. You might try to keep track of all the data, but miss elements for certain patients or trials).\n",
    "\n",
    "\n",
    "### <mark>EX 2.5 - Complicated text file</mark>\n",
    "\n",
    "*Look at the file \"olympics.txt\". Each line has multiple elements separated by tabs. The first line is a header telling what each element is. Note that some of the games were cancelled due to world wars.*\n",
    "\n",
    "1. Read in \"olympics.txt\".\n",
    "2. Create a list of lists tabulating the data.\n",
    "3. Calculate the average and standard deviation year of the Olympics.\n",
    "4. Print your results out to 3 decimal places.\n",
    "\n",
    "*Remember the equations for average $\\overline{x}$ and standard deviation $\\sigma$ over $N$ numbers:*\n",
    "$$\n",
    "\\overline{x} = \\sum_i^N x_i\n",
    "$$\n",
    "$$\n",
    "\\sigma = \\sqrt{\\frac{\\sum_i^N (x_i - \\overline{x})^2}{N}}\n",
    "$$\n",
    "\n",
    "*This is more complex. Think about the task on your own for a moment, then consult a buddy nearby. If you want hints, see the last markdown box of this file.*\n"
   ]
  },
  {
   "cell_type": "code",
   "execution_count": null,
   "metadata": {},
   "outputs": [],
   "source": [
    "\n",
    "\n",
    "\n"
   ]
  },
  {
   "cell_type": "markdown",
   "metadata": {},
   "source": [
    "### <mark>EX 2.6 - Bonus</mark>\n",
    "\n",
    "*If you finish the above task early, try computing the number of Olympics in each continent. Which continent had the most Olympics? The least?*"
   ]
  },
  {
   "cell_type": "code",
   "execution_count": null,
   "metadata": {},
   "outputs": [],
   "source": [
    "\n",
    "\n",
    "\n"
   ]
  },
  {
   "cell_type": "markdown",
   "metadata": {},
   "source": [
    "## Hints\n",
    "You'll probably want to initialize numbers at 0 or lists at [] outside of a \"for\" loop.\n",
    "\n",
    "Arithmetic with integers will return integers. Even if years are integers, to get decimal results, you need to use floats.\n",
    "\n",
    "Some Olympics were cancelled, and these lines have unique formatting. This might require an \"if\" statement."
   ]
  },
  {
   "cell_type": "code",
   "execution_count": null,
   "metadata": {},
   "outputs": [],
   "source": []
  }
 ],
 "metadata": {
  "authors": [
   {
    "name": "Gia Jadick"
   }
  ],
  "kernelspec": {
   "display_name": "Python 3 (ipykernel)",
   "language": "python",
   "name": "python3"
  },
  "language_info": {
   "codemirror_mode": {
    "name": "ipython",
    "version": 3
   },
   "file_extension": ".py",
   "mimetype": "text/x-python",
   "name": "python",
   "nbconvert_exporter": "python",
   "pygments_lexer": "ipython3",
   "version": "3.11.3"
  },
  "title": "Intro to coding in science - part II - handling data"
 },
 "nbformat": 4,
 "nbformat_minor": 4
}
