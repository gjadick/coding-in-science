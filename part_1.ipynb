{
 "cells": [
  {
   "cell_type": "markdown",
   "metadata": {},
   "source": [
    "# Introduction\n",
    "\n",
    "Welcome to our first intro to coding in science lesson! \n",
    "\n",
    "## Coding in science\n",
    "This is not your usual intro to computer science class. As researchers, it is important for us to know some programming so we can do our work efficiently, but our main focus should not deviate from the actual science. I believe it's best to learn as much coding as is useful to that end, and I have crafted these lessons with this in mind.\n",
    "\n",
    "Still, coding is a precise art. Our first lesson may seem unusually, painstakingly meticulous. This is because we must be perfectly exact when communicating with the computer, so it is helpful to have a thorough base before just diving in. This also helps us get in the coding mindset. In parts II and III, we will start getting into practical applications. I promise if you bear with me, stuff will actually get fun.\n",
    "\n",
    "## These lessons\n",
    "As we go through these lessons together, we will skim over a lot of text and focus on practice exercises. The more time you spend writing code, the faster you will feel comfortable coding in your own research. The purpose of the big blocks of descriptive text is to be a useful reference for you later on in your research. Don't worry about getting into the details too much now. Just focus on trying your best, make mistakes, realize your underlying assumptions, and learn.\n",
    "\n",
    "I argue that, when learning to code, it is useful to write incorrect things and generate errors. Many other coding lessons online focus on having you write things that are correct. In the real world of scientific research, a lot of the code you write will cause mysterious errors. By trying to generate errors now, in a learning environment, you learn the bounds of what works and gain experience parsing error messages/fixing errors.\n",
    "\n",
    "## A disclaimer\n",
    "I have a bad habit of anthropomorphizing computers, typically in the context of computers being angry and spitting out scary red error messages. Just to ensure we are all on the same page, computers are not anthropomorphic. They do not get angry. The humans who wrote said error messages are the ones behind any computer-related emotions.\n",
    "\n",
    "## Onward\n",
    "\n",
    "To the lessons!"
   ]
  },
  {
   "cell_type": "markdown",
   "metadata": {},
   "source": [
    "# Whet your appetite\n",
    "\n",
    "To get a taste of the things we'll do later, here is a function I've written. You can input your birthday and then find out the number of days you've been alive.\n",
    "Take a look at the structure, then try running it.\n",
    "\n"
   ]
  },
  {
   "cell_type": "code",
   "execution_count": null,
   "metadata": {},
   "outputs": [],
   "source": [
    "from datetime import date\n",
    "\n",
    "def days_alive(day, month, year):\n",
    "    '''\n",
    "    A function to compute the number of days a person has been alive, \n",
    "    as of today, based on one's birthday. Utilizes the datetime module.\n",
    "    \n",
    "    Inputs:\n",
    "    day (int) - day of birthday. Must be 0 to 31\n",
    "    month (int) - month of birthday. Must be 0 to 12\n",
    "    year (int) - year of birthday. Must be greater than 0, less than 2023.\n",
    "    \n",
    "    Outputs:\n",
    "    num_days (int) - days between input date and today    \n",
    "    \n",
    "    '''\n",
    "    \n",
    "    # start with some error checks\n",
    "    for var in [day, month, year]:\n",
    "        if type(var) != int:\n",
    "            print('each input must be an integer number')\n",
    "            return -1\n",
    "    if day > 31:\n",
    "        print('day must be <= 31')\n",
    "        return -1\n",
    "    elif month > 12:\n",
    "        print('month must be <= 12')\n",
    "        return -1\n",
    "    elif year <= 0: \n",
    "        print('year must be > 0')\n",
    "        return -1\n",
    "    \n",
    "    # compute the difference in days\n",
    "    today = date.today()\n",
    "    dob = date(year, month, day)    # date of birth\n",
    "    num_days = (today - dob).days   # difference in days\n",
    "    \n",
    "    return num_days"
   ]
  },
  {
   "cell_type": "code",
   "execution_count": null,
   "metadata": {},
   "outputs": [],
   "source": [
    "# change these numbers to match your birthday\n",
    "day = 30\n",
    "month = 3\n",
    "year = 1998\n",
    "\n",
    "result = days_alive(day, month, year)\n",
    "print(result)"
   ]
  },
  {
   "cell_type": "markdown",
   "metadata": {},
   "source": [
    "### <mark>EX 1.1 - Testing a function</mark>\n",
    "\n",
    "*Change the date to your birthday and re-run the block of code above.*\n",
    "\n",
    "*Try running the block of code again, with a day in the future. What happens? Why?*\n",
    "\n",
    "*Does March 32nd work? What about February 29th? What is the difference in outputs, if any?*\n"
   ]
  },
  {
   "cell_type": "markdown",
   "metadata": {},
   "source": [
    "(you can take notes in this block)\n",
    "\n"
   ]
  },
  {
   "cell_type": "markdown",
   "metadata": {},
   "source": [
    "# Variables and assignments\n",
    "\n",
    "Have you ever been learning a new equation or concept, and majority of the work you do practicing is just plugging in new numbers and re-doing the work? Not only is this time consuming, it is error-prone and no fun. \n",
    "\n",
    "One major reason coding is useful is because we are able to abstract different items we'll work with into **variables**. This is just like writing equations in math, using $x$ and $y$ as stand-ins for numbers to plug in, except we can do an even bigger variety of things.\n",
    "\n",
    "So, the first thing we we will learn is how to create variables. This is called **assignment**, and it is done via the \"=\" character. Variables can be (almost) anything we want to call them. The formula for assigning a value to a variable is always this:\n",
    "\n",
    "```\n",
    "variable = thing_I_want_stored_in_the_variable \n",
    "```\n",
    "Some examples:"
   ]
  },
  {
   "cell_type": "code",
   "execution_count": null,
   "metadata": {},
   "outputs": [],
   "source": [
    "name = \"Gia\"\n",
    "height_inches = 78.0\n",
    "location = \"arrakis\""
   ]
  },
  {
   "cell_type": "markdown",
   "metadata": {},
   "source": [
    "You can also assign multiple variables to the same thing at once using a chain of \"=\" signs, or by comma separating on both sides:"
   ]
  },
  {
   "cell_type": "code",
   "execution_count": null,
   "metadata": {},
   "outputs": [],
   "source": [
    "a = b = c = 123.456\n",
    "x, y = 10, 15"
   ]
  },
  {
   "cell_type": "markdown",
   "metadata": {},
   "source": [
    "## Variable names\n",
    "\n",
    "The variable name is always on the left side of the \"=\" sign. We can't call it just anything; there are some rules for naming variables:\n",
    "\n",
    "- Names must begin with a letter or an underscore\n",
    "- Names are case sensitive\n",
    "- Names may only contain letters (upper or lowercase), numbers, and underscores\n",
    "- You cannot use spaces or other special characters (@, !, \", ,, etc.)\n",
    "- A small number of words, even if they follow these conventions, are reserved and cannot be used (more on that later)\n",
    "\n",
    "What happens if we break one of these rules? Catastrophe?"
   ]
  },
  {
   "cell_type": "code",
   "execution_count": null,
   "metadata": {},
   "outputs": [],
   "source": [
    "1_test = 1"
   ]
  },
  {
   "cell_type": "markdown",
   "metadata": {},
   "source": [
    "An error message! So, the world does not end, and we get a helpful little message pointing out exactly where our error is and what it is (\"invalid syntax\"). In the real world, we can violate grammar rules, and there are essentially no consequences. In Python, we must follow the syntax rules, or the computer will interpret what we write as well as gibberish. Error messages help guide us. This one is pretty easy, but it is good to get used to looking at these. Let's fix the issue by trying a new name."
   ]
  },
  {
   "cell_type": "code",
   "execution_count": null,
   "metadata": {},
   "outputs": [],
   "source": [
    "one_test = 1"
   ]
  },
  {
   "cell_type": "markdown",
   "metadata": {},
   "source": [
    "### <mark>EX 1.2 - Define some variables.</mark>\n",
    "\n",
    "*In the block below, define some variables with various names. Based on the rules above, try to make some that work and some that cause error messages. If you get an error message, read it to identify which line is the source of your error.*"
   ]
  },
  {
   "cell_type": "code",
   "execution_count": null,
   "metadata": {},
   "outputs": [],
   "source": [
    "\n",
    "\n"
   ]
  },
  {
   "cell_type": "markdown",
   "metadata": {},
   "source": [
    "Did you get any errors? You might notice, if you want to assign a word to variable, you have to stick in quotes, but if you want a number, you don't have to do this. To understand what is going on, let's discuss **variable types**."
   ]
  },
  {
   "cell_type": "markdown",
   "metadata": {},
   "source": [
    "## Variable types\n",
    "\n",
    "The thing assigned to the variable is always to the right of the \"=\" sign. Note I have been saying \"thing\", intentionally vague. \n",
    "Here are the types of variables most common in scientific research. Note that each has a full name, which I have written out, and a short reference name that I have written in parentheses. This is used for coding stuff later.\n",
    "\n",
    "**Words (str)**\n",
    "\n",
    "Words are called strings \"str\", and they string together characters. I suppose if we are being specific, strings don't have to be words at all. \n",
    "They can be any series of letters, numbers, special characters, you name it. To define them, you put whatever you want inside single or double quotation marks \n",
    "(the two are equivalent).\n",
    "```\n",
    "string1 = \"here is a string with spaces, 1s, 2s, 3s, @~!\"\n",
    "string2 = 'Or, I can use single quotes'\n",
    "string3 = 'If I want double quotes \"\" in here, I enclose with single quotes'\n",
    "string4 = \"The opposite is also true '' \"\n",
    "```\n",
    "*Important note! Python treats double and single quotes the same, but this is not true of all languages. For example, MATLAB treats them differently.*\n",
    "\n",
    "**Numbers (int, float)**\n",
    "\n",
    "There are two types of numbers, an integer \"int\" and decimal \"float\". You define them by just typing numbers, with or without the decimal point.\n",
    "```\n",
    "integer = 365\n",
    "float = 365.0\n",
    "```\n",
    "\n",
    "\n",
    "**True/False (bool)**\n",
    "\n",
    "A boolean is a true or false statement. This becomes useful when comparing things. There are only two possibilities for defining a bool: True or False (no quotes, must be capitalized first letter). If you put it in quotes, it is a string.\n",
    "```\n",
    "true_bool = True\n",
    "false_bool = False\n",
    "NOT_a_bool = \"true\"\n",
    "```\n",
    "\n",
    "**Lists (lst)**\n",
    "\n",
    "You can store a bunch of variables together in a list. You use brackets and separate the values you want in it with commas. You can even combine different datatypes in a list, if you want.\n",
    "```\n",
    "x, y = 10, 15\n",
    "coordinates = [x, y]\n",
    "list_of_lists = [[\"hello\", \"world\"], [1, 2, 3], [True]]\n",
    "```\n",
    "List of lists are one particularly handy type of data for the scientist. If each sublist is the same size, you get a table, for example:\n",
    "```\n",
    "radiation_syndrome_stages = [\n",
    "    [\"cell count (G/L)\", \"1 Gy\", \"2 Gy\", \"4 Gy\"],\n",
    "    [\"lymhocytes\",   1.5, 0.8, 0.5, 0.3],\n",
    "    [\"granulocytes\", 2.0, 1.5, 1.0, 0.5]]\n",
    "```\n",
    "Notice I began this table with a header, using all strings, but in each sub-line, the cell counts themselves are floats. I like to use multiple lines for tables, since I find them easier to read, but this is not required. Just make sure you put your starting bracket on the first line.\n",
    "\n",
    "**Other types**\n",
    "\n",
    "There are some other data types that you probably won't encounter much in your research.\n",
    "For completeness, [here is a list](https://www.digitalocean.com/community/tutorials/python-data-types). You can check out details there if you are interested in any of these.\n",
    "- Numeric data types: int, float, complex\n",
    "- String data types: str\n",
    "- Sequence types: list, tuple, range\n",
    "- Binary types: bytes, bytearray, memoryview\n",
    "- Mapping data type: dict\n",
    "- Boolean type: bool\n",
    "- Set data types: set, frozenset\n",
    "\n",
    "\n",
    "## Checking variable type\n",
    "You don't actually know the datatype when you define something in Python. (you can define it if you want, but that is not usual). Python knows the definition behind the scenes, and this will affect the types of operations you can do with variables, so it is good to understand your variable typing whenever you define anything. If your code gets complicated and you are unsure what a variable is, you can check it with the function `type`:"
   ]
  },
  {
   "cell_type": "code",
   "execution_count": null,
   "metadata": {},
   "outputs": [],
   "source": [
    "type(1), type(5.0), type(\"what's up\"), type(True), type([1,2,3])"
   ]
  },
  {
   "cell_type": "markdown",
   "metadata": {},
   "source": [
    "\"type\" is a function that gives some output, in this case the type name, so by writing it at the last line of a code block, it shows the output for us. We could also use print statements.\n",
    "\n",
    "## Converting variable type\n",
    "\n",
    "The names of types can also be used as functions transform variables into other types. This is intuitive for some things\n",
    "(for example, turning an integer into a decimal or vice versa). Decimals always round down into integers. \n",
    "Booleans also correspond to 1 and 0."
   ]
  },
  {
   "cell_type": "code",
   "execution_count": null,
   "metadata": {},
   "outputs": [],
   "source": [
    "int(5.678), float(550), str(55), int(\"55\")"
   ]
  },
  {
   "cell_type": "code",
   "execution_count": null,
   "metadata": {},
   "outputs": [],
   "source": [
    "int(True), int(False)"
   ]
  },
  {
   "cell_type": "code",
   "execution_count": null,
   "metadata": {},
   "outputs": [],
   "source": [
    "a = 'test'\n",
    "type(a)"
   ]
  },
  {
   "cell_type": "markdown",
   "metadata": {},
   "source": [
    "But this does not work with all data types. Now it is your turn.\n",
    "\n",
    "### <mark>EX 1.3 - Manipulating data types</mark>\n",
    "1. Test out a few variables and check their types. \n",
    "2. Change variable types. See what does and does not work.\n",
    "3. What happens if you try to transform various strings into an integer?\n",
    "4. What happens if you try to transform an integer into a string?"
   ]
  },
  {
   "cell_type": "code",
   "execution_count": null,
   "metadata": {},
   "outputs": [],
   "source": [
    "\n",
    "\n",
    "\n",
    "\n"
   ]
  },
  {
   "cell_type": "markdown",
   "metadata": {},
   "source": [
    "## Reserved words\n",
    "\n",
    "As you may notice,\n",
    "some words are special and correspond to built-in uses.\n",
    "These words **should not** be used for variable names,\n",
    "because they will override the built-in use and probably cause headaches later on.\n",
    "If you try to assign one of these to a variable, it won't give you an error, so you \n",
    "technically can make them variables, but it is bad practice.\n",
    "These include the names of data types, like \"int\" and \"float\", and also the names\n",
    "of any functions (pre-defined ones like \"type\" and also any you name yourself).\n",
    "\n",
    "In addition, some words **cannot** be used for variable names, and they will give\n",
    "you an error message if you try to assign it. These words are \"reserved\" for other \n",
    "things. You can run this command to see them:"
   ]
  },
  {
   "cell_type": "code",
   "execution_count": null,
   "metadata": {},
   "outputs": [],
   "source": [
    "help(\"keywords\")"
   ]
  },
  {
   "cell_type": "code",
   "execution_count": null,
   "metadata": {},
   "outputs": [],
   "source": [
    "for = \"test\""
   ]
  },
  {
   "cell_type": "markdown",
   "metadata": {},
   "source": [
    "If you ever run into trouble because you assigned a \"should not\" name to a variable, you can restart your kernel to reset everything to how it was when you started. (in Jupyter Lab, look at the \"Kernel\" tab at the top of the page)"
   ]
  },
  {
   "cell_type": "markdown",
   "metadata": {},
   "source": [
    "## Print statements\n",
    "\n",
    "At some point, you'll probably want to see the results of some of the coding you've done. After you change variables, you want to find out what they have become.\n",
    "This is where **print statements** come in.\n",
    "To print something, you write \"print\" with your output in parentheses, like:\n",
    "```\n",
    "print(your_variable_here)\n",
    "```\n",
    "\n",
    "You can print multiple things by separating the stuff in parentheses by commas:\n",
    "```\n",
    "print(thing1, thing2, thing3)\n",
    "```"
   ]
  },
  {
   "cell_type": "code",
   "execution_count": null,
   "metadata": {},
   "outputs": [],
   "source": [
    "foo = 123.101010\n",
    "bar = 'hello world'\n",
    "\n",
    "print(bar)\n",
    "print(foo, bar)\n",
    "print(foo, '---', bar)"
   ]
  },
  {
   "cell_type": "markdown",
   "metadata": {},
   "source": [
    "# Comments\n",
    "\n",
    "It is often useful to write notes within your code blocks. Especially as scientists, this can help us keep track of the units of different numbers we assign to variables, which is a common source of errors.\n",
    "You saw a few of these in the example function at the beginning."
   ]
  },
  {
   "cell_type": "code",
   "execution_count": null,
   "metadata": {},
   "outputs": [],
   "source": [
    "# Comments at the top of a section of code can help\n",
    "# me to remember what the purpose of the whole snippet was.\n",
    "#\n",
    "###### I can add as many of these #s as I want.\n",
    "#\n",
    "# Nothing I write here will be executed.\n",
    "\n",
    "'''\n",
    "I can also block out multiple lines of comments\n",
    "using three quotation marks.\n",
    "\n",
    "This type of commenting is usually used for functions--\n",
    "we'll get to these shortly.\n",
    "'''\n",
    "\n",
    "\n",
    "\"\"\"Single and double quotation marks work the same.\"\"\"\n",
    "\n",
    "\n",
    "# I can also add comments to the end of a line of code. \n",
    "# EXAMPLE: adding the units of a parameter and a brief explanation.\n",
    "\n",
    "g = 9.81   # [m/s^2] acceleration of Earth's gravity \n"
   ]
  },
  {
   "cell_type": "markdown",
   "metadata": {},
   "source": [
    "You might also notice I am placing as many spaces between variables, lines, and comments, as I want. This is acceptable by Python. \n",
    "Ideally, you want to use some sort of structure to make things look nice and readable. In theory, you don't have to do this...\n",
    "The one thing that Python is very particular about is **the number of spaces at the beginning of each line**. For now, avoid spaces at the start of lines.\n",
    "We can mess with this later."
   ]
  },
  {
   "cell_type": "markdown",
   "metadata": {},
   "source": [
    "# Arithmetic \n",
    "\n",
    "Ok cool, so we have some variables. Now what? Let's put those variables to work for us by doing some math.\n",
    "\n",
    "You already know the operators we write down on paper, plus and minus signs, fractions, dots for multiplication, carrots for exponents, and so on. These usually correspond to Python operations, but not always. Here are the operators:\n",
    "\n",
    "- Addition: `x + y`\n",
    "\n",
    "- Subtraction: `x - y`\n",
    "\n",
    "- Multiplication: `x * y`\n",
    "\n",
    "- Division (float): `x / y`\n",
    "\n",
    "- Division (integer): `x // y` , this will round float division down to the nearest int.\n",
    "\n",
    "- Modulus: `x % y` , this gives the remainder when x is divided by y.\n",
    "\n",
    "- Exponents: `x ** y` , Note that you cannot use carrots ^, it must be the double asterisks.\n",
    "\n",
    "- Order of operations: (), These must be regular parentheses. Brackets [] and curly brackets {} are reserved for other things."
   ]
  },
  {
   "cell_type": "code",
   "execution_count": 2,
   "metadata": {},
   "outputs": [
    {
     "name": "stdout",
     "output_type": "stream",
     "text": [
      "539.5500000000001\n"
     ]
    }
   ],
   "source": [
    "# say you have a quick math problem to solve.\n",
    "# You can do operations with pre-assigned variables.\n",
    "\n",
    "m = 55.0  # mass, kg\n",
    "a = 9.81  # acceleration, m/s^2\n",
    "\n",
    "F = m*a   # force of gravity, N\n",
    "print(F)"
   ]
  },
  {
   "cell_type": "code",
   "execution_count": 6,
   "metadata": {},
   "outputs": [
    {
     "name": "stdout",
     "output_type": "stream",
     "text": [
      "tomorrow toto\n",
      "[1, 2, 3, 4, 5, 6] [1, 2, 3, 1, 2, 3]\n"
     ]
    }
   ],
   "source": [
    "# You can add/multiply strings\n",
    "s = 'to' + 'morrow'\n",
    "s2 = 'to'*2\n",
    "print(s, s2)\n",
    "\n",
    "# you can add/multiply lists\n",
    "l = [1,2,3] + [4,5,6]\n",
    "l2 = [1,2,3]*2\n",
    "print(l, l2)"
   ]
  },
  {
   "cell_type": "code",
   "execution_count": 2,
   "metadata": {},
   "outputs": [
    {
     "ename": "TypeError",
     "evalue": "unsupported operand type(s) for -: 'str' and 'str'",
     "output_type": "error",
     "traceback": [
      "\u001b[0;31m---------------------------------------------------------------------------\u001b[0m",
      "\u001b[0;31mTypeError\u001b[0m                                 Traceback (most recent call last)",
      "Cell \u001b[0;32mIn[2], line 2\u001b[0m\n\u001b[1;32m      1\u001b[0m \u001b[38;5;66;03m# You cannot subtract, divide, multiply, etc. strings\u001b[39;00m\n\u001b[0;32m----> 2\u001b[0m s \u001b[38;5;241m=\u001b[39m \u001b[38;5;124;43m'\u001b[39;49m\u001b[38;5;124;43mtomorrow\u001b[39;49m\u001b[38;5;124;43m'\u001b[39;49m\u001b[38;5;241;43m-\u001b[39;49m\u001b[38;5;124;43m'\u001b[39;49m\u001b[38;5;124;43mmorrow\u001b[39;49m\u001b[38;5;124;43m'\u001b[39;49m\n\u001b[1;32m      3\u001b[0m \u001b[38;5;28mprint\u001b[39m(s)\n\u001b[1;32m      5\u001b[0m l \u001b[38;5;241m=\u001b[39m [\u001b[38;5;241m1\u001b[39m,\u001b[38;5;241m2\u001b[39m,\u001b[38;5;241m3\u001b[39m,\u001b[38;5;241m4\u001b[39m,\u001b[38;5;241m5\u001b[39m,\u001b[38;5;241m6\u001b[39m]\u001b[38;5;241m-\u001b[39m[\u001b[38;5;241m4\u001b[39m,\u001b[38;5;241m5\u001b[39m,\u001b[38;5;241m6\u001b[39m]\n",
      "\u001b[0;31mTypeError\u001b[0m: unsupported operand type(s) for -: 'str' and 'str'"
     ]
    }
   ],
   "source": [
    "# You cannot subtract, divide, etc. strings\n",
    "s = 'tomorrow'-'morrow'\n",
    "print(s)"
   ]
  },
  {
   "cell_type": "code",
   "execution_count": 5,
   "metadata": {},
   "outputs": [
    {
     "name": "stdout",
     "output_type": "stream",
     "text": [
      "[1, 2, 3, 1, 2, 3]\n"
     ]
    }
   ],
   "source": [
    "# You cannot subtract, divide, etc. lists\n",
    "l = [1,2,3]*2 #[1,2,3,4,5,6]-[4,5,6]\n",
    "print(l)"
   ]
  },
  {
   "cell_type": "markdown",
   "metadata": {},
   "source": [
    "## Changing variable definitions.\n",
    "\n",
    "You can also use math to change earlier values of variables, using the operator you want followed by =. "
   ]
  },
  {
   "cell_type": "code",
   "execution_count": null,
   "metadata": {},
   "outputs": [],
   "source": [
    "# long way to change a variable\n",
    "x = 10\n",
    "x = x + 5   # take the current value and add 5\n",
    "print(x)\n",
    "\n",
    "# equivalent, short way \n",
    "x = 10\n",
    "x += 5    # operator followed by '='\n",
    "print(x)"
   ]
  },
  {
   "cell_type": "markdown",
   "metadata": {},
   "source": [
    "You mathy people probably saw the line above `x = x + 5` and thought this looks weird. It looks like an equation, where you should be solving for $x$. Though math has a lot of overlap with coding, this is one example where the two are distinct. `x = x + 5` is not an equation, because \"=\" is variable assignment, not equality. We are saying to assign new x to the old value of x plus five. This will get more comfortable as you get more coding experience.\n",
    "\n",
    "You can also overwrite variables with new definitions."
   ]
  },
  {
   "cell_type": "code",
   "execution_count": null,
   "metadata": {},
   "outputs": [],
   "source": [
    "x = 123\n",
    "print(x)\n",
    "x = 456\n",
    "print(x)"
   ]
  },
  {
   "cell_type": "markdown",
   "metadata": {},
   "source": [
    "### <mark>EX 1.4 - Write an equation</mark>\n",
    "*Write the quadratic formula, define variables as the input parameters, and compute the result. Add comments to keep track of each line.*\n",
    "\n",
    "(hint: square root is the same as `**0.5`)"
   ]
  },
  {
   "cell_type": "code",
   "execution_count": null,
   "metadata": {},
   "outputs": [],
   "source": [
    "\n",
    "\n",
    "\n"
   ]
  },
  {
   "cell_type": "markdown",
   "metadata": {},
   "source": [
    "How do you handle the plus/minus?"
   ]
  },
  {
   "cell_type": "markdown",
   "metadata": {},
   "source": [
    "# Functions\n",
    "\n",
    "Writing an equation once is nice and all, but we could do that just easily by typing the same thing into a calculator. \n",
    "Plus, equations begin to get annoying when you have to re-type variables multiple times (like polynomials), or when you want to do something more complicated (with multiple steps), or repeat something (with different variables), all of which become error-prone.\n",
    "\n",
    "To solve this issue, we can organize code snippets into **functions**, like we did with our `days_alive()` example at the beginning.\n",
    "\n",
    "The word \"function\" is typically used as a noun to mean the function of a person or thing. In mathematics, it is \"a variable (such as a quality, trait, or measurement) that depends on and varies with another\" (think `f(x)`). It can also be defined as \"a computer subroutine\". I think it is best for us to think of functions as a combination of the math and computer subroutine definitions. (thank you Merriam-Webster Dictionary)\n",
    "\n",
    "Like variable assignments, we must utilize a specific syntax when creating, or \"defining\", our own functions:\n",
    "\n",
    "```\n",
    "def f(x, y):  \n",
    "    return x + y \n",
    "```\n",
    "\n",
    "Let's break that example down into the different parts:\n",
    "\n",
    "- function name: in this example, we use \"f\". You can name this whatever you want, following the rules of variable names.\n",
    "- arguments: These are the inputs to the function. You can have as many as you want, separated by commas. We use two, x and y.\n",
    "- return statement: This is the last line of a function, and it defines the output.\n",
    "\n",
    "The first line of a function definition is always `def your_function_name(your_arguments):`. The \"def\" indicates you are starting a function, then the colon finishes off the starting line. Lines underneath this must be indented by one tab or four spaces. The tab or space choice must be consistent within a single file or you get mysterious errors. Jupyter Lab is kind in that is auto-converts tabs to spaces, so you don't have to worry about that in these files.\n",
    "\n",
    "Once you define a function, you can return to writing code without the tabs, and you can \"call\" your function by writing the name (same as above) with the arguments (now whatever you want). The arguments do not have to match the variable names you chose above, like $x$ and $y$, but they do have to match the positions. There are a few ways you can do this."
   ]
  },
  {
   "cell_type": "code",
   "execution_count": null,
   "metadata": {},
   "outputs": [],
   "source": [
    "def f(x, y):\n",
    "    return x + y\n",
    "\n",
    "# here are a few options for calling functions\n",
    "\n",
    "a, b = 2, 3\n",
    "print(f(a,b))       # defining variables and passing these as arguments\n",
    "\n",
    "print(f(2,3))       # bypassing variables, directly using numbers\n",
    "\n",
    "print(f(x=2, y=3))  # specifying arguments with '=' signs"
   ]
  },
  {
   "cell_type": "markdown",
   "metadata": {},
   "source": [
    "You can see these all give you the same results.\n",
    "\n",
    "With functions, we also begin to work with the idea of **local and global variables**. When we define a function with `def f(x,y):`, in lines below defining the function, the variables `x` and `y` are called \"local\", because they only exist in the scope of the function. In contrast, if outside of the function, we create some variables `a` and `b` and then call the function like `f(a,b)`, now we have created \"global\" variables that exist everywhere in our code, outside of functions or even inside if we want (though this is generally not good practice). \n"
   ]
  },
  {
   "cell_type": "markdown",
   "metadata": {},
   "source": [
    "### <mark>EX 1.5 - Turn your equation into a function</mark>\n",
    "*Take your quadratic equation code and re-package it into a function. Print out the results for different arguments.*"
   ]
  },
  {
   "cell_type": "code",
   "execution_count": null,
   "metadata": {},
   "outputs": [],
   "source": [
    "\n",
    "\n",
    "\n"
   ]
  },
  {
   "cell_type": "markdown",
   "metadata": {},
   "source": [
    "Do you think it is useful to re-write our equation into a function? Why?"
   ]
  },
  {
   "cell_type": "markdown",
   "metadata": {},
   "source": [
    "## Docstrings\n",
    "\n",
    "A docstring is an optional string that you can add as the first line in a function definition. It must use the three quotes method of commenting, *not #*. The docstring usually contains information about what the function does and what the inputs and outputs should be (variable type and usage). You will notice many lazy programmers (including myself) bypass this step, but I really implore you to try to write docstrings as much as possible, especially for complicated functions. They are super useful for helping you parse old code that you read. You will save yourself so much time and headache.\n",
    "\n",
    "When you define a docstring, it becomes a special attribute of a function called `__doc__`. This means that you can write your function name, without parentheses, followed by `.__doc__` and get the docstring. (Notice that subtle period in there). This lets you see what your function does."
   ]
  },
  {
   "cell_type": "code",
   "execution_count": null,
   "metadata": {},
   "outputs": [],
   "source": [
    "print(days_alive.__doc__)"
   ]
  },
  {
   "cell_type": "code",
   "execution_count": null,
   "metadata": {},
   "outputs": [],
   "source": [
    "def test():\n",
    "    # is this a docstring?\n",
    "    return 0\n",
    "\n",
    "print(test.__doc__)\n",
    "\n",
    "def test():\n",
    "    ''' is this a docstring?'''\n",
    "    return 0\n",
    "\n",
    "print(test.__doc__)"
   ]
  },
  {
   "cell_type": "markdown",
   "metadata": {},
   "source": [
    "Alternatively, you can re-define or create a docstring for an existing function in a new line."
   ]
  },
  {
   "cell_type": "code",
   "execution_count": null,
   "metadata": {},
   "outputs": [],
   "source": [
    "test.__doc__ = \"A new docstring for my old function.\" \n",
    "print(test.__doc__)"
   ]
  },
  {
   "cell_type": "markdown",
   "metadata": {},
   "source": [
    "### <mark>EX 1.6 - Give your function a docstring</mark>\n",
    "*Take your old function, add a docstring, and print outputs for different inputs. Print the docstring.*"
   ]
  },
  {
   "cell_type": "code",
   "execution_count": null,
   "metadata": {},
   "outputs": [],
   "source": [
    "\n",
    "\n",
    "\n"
   ]
  },
  {
   "cell_type": "markdown",
   "metadata": {},
   "source": [
    "## Pre-existing functions\n",
    "\n",
    "Python comes with many handy functions pre-packaged in. We've already used some of these--`print()` and `type()`. We'll cover more later."
   ]
  },
  {
   "cell_type": "markdown",
   "metadata": {},
   "source": [
    "### <mark>EX 1.7 - Print an unknown docstring</mark>\n",
    "*Print the docstring for one of the pre-existing functions.*"
   ]
  },
  {
   "cell_type": "code",
   "execution_count": null,
   "metadata": {},
   "outputs": [],
   "source": [
    "\n",
    "\n",
    "\n"
   ]
  },
  {
   "cell_type": "markdown",
   "metadata": {},
   "source": [
    "As a final note, functions do not always need to return an output. Sometimes they just do things. In this case, if you try to assign an output to a function, you will get a None type. For example:"
   ]
  },
  {
   "cell_type": "code",
   "execution_count": null,
   "metadata": {},
   "outputs": [],
   "source": [
    "def hello(text):\n",
    "    print(\"Hello,\", text)\n",
    "    \n",
    "x = hello('friend')\n",
    "print(x)"
   ]
  },
  {
   "cell_type": "markdown",
   "metadata": {},
   "source": [
    "# Comparisons (==, <, >, !=)\n",
    "\n",
    "In addition to just math and variable definition operations, we can compare the values of two variables. These operator signs are similar to those we use in math, but slightly different to work with Python.\n",
    "\n",
    "- Equivalence: ==\n",
    "- Non-equivalence: !=\n",
    "- Greater than: >\n",
    "- Greater than or equal to: >=\n",
    "- Less than: <\n",
    "- Less than or equal to: <=\n",
    "\n",
    "Common errors are usually forgetting the double equal sign for equivalence. The double equal sign must be used to distinguish this comparison from variable definition, which uses the single equal sign.\n",
    "\n",
    "Here is the syntax, using equivalence as an example:\n",
    "```\n",
    "var1 == var2\n",
    "```\n",
    "\n",
    "A comparison will return a bool type (True/False). You can assign a comparison to a variable or directly print it."
   ]
  },
  {
   "cell_type": "code",
   "execution_count": null,
   "metadata": {},
   "outputs": [],
   "source": [
    "x = 10\n",
    "y = 5\n",
    "\n",
    "# direct prints\n",
    "print(x > 10)\n",
    "print(y <= 10)\n",
    "\n",
    "# assign our comparison to a variable\n",
    "comparison = x == 10\n",
    "print(comparison)\n",
    "\n",
    "comparison = x > 10\n",
    "print(comparison)"
   ]
  },
  {
   "cell_type": "markdown",
   "metadata": {},
   "source": [
    "# Non-linear logic \n",
    "\n",
    "So far we have written code line-by-line. Things become to start very automated when we get non-linear. This can be by branching into multiple options or by repeating over chunks of code, depending on whether certain conditions are met.\n",
    "\n",
    "## \"for\" and range()\n",
    "\n",
    "A \"for\" loop iterates over a specific set of variables, usually in a list. Like functions, the first line begins with a word \"for\", ends with a colon, and subsequent lines must be indented.\n",
    "```\n",
    "for var in [1,2,3,4]:\n",
    "    print(var)\n",
    "```\n",
    "\n",
    "A pre-defined Python function, `range()`, is often implemented in these loops. This function returns a \"range\" object, which for our purposes means we must use a \"for\" loop to print each element, or we must use a type conversion to a \"list\"."
   ]
  },
  {
   "cell_type": "code",
   "execution_count": null,
   "metadata": {},
   "outputs": [],
   "source": [
    "# checking what range looks like\n",
    "\n",
    "print(range(10))\n",
    "print(list(range(10)))"
   ]
  },
  {
   "cell_type": "code",
   "execution_count": null,
   "metadata": {},
   "outputs": [],
   "source": [
    "# writing some \"for\" loops without range.\n",
    "for color in ['red', 'blue', 'green']:\n",
    "    print('I like the color', color)"
   ]
  },
  {
   "cell_type": "code",
   "execution_count": null,
   "metadata": {},
   "outputs": [],
   "source": [
    "# Writing \"for\" loops with range.\n",
    "\n",
    "print(\"Here, we explicitly write each number\")\n",
    "for var in [1,2,3,4]:\n",
    "    print(var)\n",
    "    \n",
    "print(\"\\nNow we use range()\")\n",
    "for var in range(1,5):   \n",
    "    print(var)"
   ]
  },
  {
   "cell_type": "markdown",
   "metadata": {},
   "source": [
    "These give the same outputs! Take a look at the syntax for range() involves some optional parameters."
   ]
  },
  {
   "cell_type": "markdown",
   "metadata": {},
   "source": [
    "### <mark>EX 1.8 - Using range()</mark>\n",
    "\n",
    "*Test out the results of various range() inputs. There are some optional arguments. If only there were a way to see a description of the function and its arguments...*\n",
    "\n",
    "1. Write a brief description of the syntax of range() and its optional arguments in a markdown cell.\n",
    "2. Write a \"for\" loop to compute the sum of all even numbers from 0 to 100 (including 100). This should utilize some principles we covered earlier.\n",
    "\n",
    "*Try it on your own first, then check results with a buddy.*"
   ]
  },
  {
   "cell_type": "markdown",
   "metadata": {},
   "source": [
    "(describe range syntax here)"
   ]
  },
  {
   "cell_type": "code",
   "execution_count": null,
   "metadata": {},
   "outputs": [],
   "source": [
    "\n",
    "\n",
    "\n"
   ]
  },
  {
   "cell_type": "markdown",
   "metadata": {},
   "source": [
    "## \"if\" statements\n",
    "Loops break linearity of code by repeating something. We can also break linearity by splitting into different pathways, using \"if\" statements. These are similar to \"while\" loops in that they utilize boolean conditions. We can add as many diverging paths as we want. \n",
    "\n",
    "1. Just one is a single \"if\".\n",
    "2. Two is \"if\" and \"else\" or \"elif\".\n",
    "3. Three or more is \"if\", \"elif\" (as many of these as you want), and/or a single \"else\".\n",
    "\n",
    "The first statements \"if\" and \"elif\" cover The syntax is:\n",
    "\n",
    "```\n",
    "if condition_1:\n",
    "    do_thing_1()\n",
    "elif condition_2:   # optional \"elif\" for a second condition\n",
    "    do_thing_2()\n",
    "elif condition_n:\n",
    "    do_thing_n()\n",
    "    .\n",
    "    .               # (insert more \"elif\"s here)\n",
    "    .\n",
    "else: # optional \"else\" to covers all other possibilities\n",
    "    do_other_things()\n",
    "```\n",
    "\n",
    "My syntax example uses functions for each \"if\" statement, but you can put anything there."
   ]
  },
  {
   "cell_type": "code",
   "execution_count": null,
   "metadata": {},
   "outputs": [],
   "source": [
    "# Check our location example, using \"if\" and \"for\"\n",
    "\n",
    "locations = ['NYC', 'Tampa Bay', 'Chicago', 'Illinois','Wichita']\n",
    "for loc in locations:\n",
    "    if loc == 'Chicago':\n",
    "        print(\"We are in this city\")\n",
    "    elif loc == 'Illinois':\n",
    "        print(\"We are in this state\")\n",
    "    else: \n",
    "        print(\"We are not in\", loc)\n",
    "        "
   ]
  },
  {
   "cell_type": "code",
   "execution_count": null,
   "metadata": {},
   "outputs": [],
   "source": [
    "# Sometimes \"if\" statements are redundant with booleans.\n",
    "\n",
    "def vote(age):\n",
    "    if age >= 18:\n",
    "        return True\n",
    "    else:\n",
    "        return False\n",
    "    \n",
    "def vote2(age):\n",
    "    return age >= 18\n",
    "\n",
    "print(vote(28), vote2(28))\n",
    "print(vote(16), vote2(16))"
   ]
  },
  {
   "cell_type": "markdown",
   "metadata": {},
   "source": [
    "### <mark>EX 1.9 - \"if\" statements</mark>\n",
    "*Write a function that uses \"if\" statements to tell you whether an integer is divisible by 3, divisible by 2, both, or neither. You can even define sub-functions to check these conditions, and call different ones as needed.*"
   ]
  },
  {
   "cell_type": "code",
   "execution_count": null,
   "metadata": {},
   "outputs": [],
   "source": [
    "\n",
    "\n",
    "\n"
   ]
  },
  {
   "cell_type": "markdown",
   "metadata": {},
   "source": [
    "What happens if someone passes a non-integer argument to your function? Is there a way you could write in some error handling? For inspiration, you can revisit the body of our `days_living` function."
   ]
  },
  {
   "cell_type": "markdown",
   "metadata": {},
   "source": [
    "## \"and\" and \"or\"\n",
    "\n"
   ]
  },
  {
   "cell_type": "markdown",
   "metadata": {},
   "source": [
    "## Combining lines of logic\n",
    "\n",
    "For every \"if\", \"for\", \"def\", or other type of statement where you end a line with a colon and start tabbing things underneath, you can **nest statements**. You can create loops within loops, different sub-conditional statements, and so-on. You can define functions in functions. You will likely begin to do this as you get into more complicated tasks."
   ]
  },
  {
   "cell_type": "code",
   "execution_count": 7,
   "metadata": {},
   "outputs": [
    {
     "name": "stdout",
     "output_type": "stream",
     "text": [
      "hellooo wooorld\n"
     ]
    }
   ],
   "source": [
    "new_phrase = ''\n",
    "for word in ['hello', ' ', 'world']:\n",
    "    for letter in word:\n",
    "        if letter == 'o': \n",
    "            new_phrase += letter*3\n",
    "        else:\n",
    "            new_phrase += letter\n",
    "print(new_phrase)"
   ]
  },
  {
   "cell_type": "markdown",
   "metadata": {},
   "source": [
    "# Debugging\n",
    "\n",
    "You may be familiar with the term \"bug\" to refer to errors or glitches in a program. \"Bug\" has been engineering jargon since the 1870s to describe various hardware defects. A more fun version of the origin of the term originates from Grace Hopper in the 1940s, when a software issue was traced to a moth trapped in a relay and thus causing a malfunction. This bug was carefully removed and taped to the log book. [source](https://en.wikipedia.org/wiki/Software_bug#cite_note-14)\n",
    "\n",
    "![bug](imgs/First_Computer_Bug_1945.jpg)\n",
    "\n",
    "So, we refer to the act of removing code errors as \"debugging\". This constitutes a rather large amount of one's time coding. Here are my tips:\n",
    "\n",
    "**1. Read the error messages!**\n",
    "\n",
    "I cannot emphasize this enough. When your program fails to run, Python will usually give you some helpful feedback for fixing things. In particular, it should tell you the exact line in your code that is causing the error. This is a great starting place for debugging.\n",
    "\n",
    "**2. Be exact with your syntax**\n",
    "\n",
    "Capitalization, punctuation, spacing, tabbing -- all must be perfect for the computer to understand what you mean.\n",
    "\n",
    "**3. Be exact with your instructions**\n",
    "\n",
    "The computer cannot read between the lines. If you aren't sure why your program is doing what it's doing, try getting in this ultra-precise mindset and re-read what you wrote.\n",
    "\n",
    "**4. Consider all possibilities**\n",
    "\n",
    "Sometimes you will need to use \"if\" statements to handle outlier cases. Say you write a function to add two numbers; what happens if you input an argument that is not a number? Or what if you try to open a file, but the file does not exist?\n",
    "\n",
    "**5. Use print statements at different lines**\n",
    "\n",
    "When code gets complicated, it is easy to lose track of what is equal to what and where.\n",
    "\n",
    "**6. Stack Exchange is your new best friend**\n",
    "\n",
    "If you can't solve an error yourself, copy-pasting error messages into a search engine will often be helpful, since other people have often run into the same errors that you have."
   ]
  },
  {
   "cell_type": "markdown",
   "metadata": {},
   "source": [
    "# That's all for the basics!"
   ]
  }
 ],
 "metadata": {
  "authors": [
   {
    "name": "Gia Jadick"
   }
  ],
  "kernelspec": {
   "display_name": "Python 3 (ipykernel)",
   "language": "python",
   "name": "python3"
  },
  "language_info": {
   "codemirror_mode": {
    "name": "ipython",
    "version": 3
   },
   "file_extension": ".py",
   "mimetype": "text/x-python",
   "name": "python",
   "nbconvert_exporter": "python",
   "pygments_lexer": "ipython3",
   "version": "3.11.3"
  },
  "title": "Intro to coding in science - part I - basics"
 },
 "nbformat": 4,
 "nbformat_minor": 4
}
