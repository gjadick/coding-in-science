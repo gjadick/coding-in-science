{
 "cells": [
  {
   "cell_type": "markdown",
   "metadata": {},
   "source": [
    "# Introduction\n",
    "\n",
    "The goal of these lessons is to teach simple coding techniques you can apply to your scientific research.\n",
    "In addition to the basics, you will learn to create your own programs, \n",
    "read and write data files, generate simulated data, compare experimental findings to theory,\n",
    "analyze and process images, present results with engaging plots, and more.\n",
    "\n",
    "The lessons are structured into different parts, which are meant to provide a natural progression\n",
    "from basic coding logic (taught in Python, but applicable to any coding language) to increasingly advanced\n",
    "applications. There will be interactive exercises, which is (in my evidence-backed opinion) the best way to learn anything.\n",
    "By completing these exercises between short lessons, you will also build a useful library of code snippets\n",
    "that you can reference and build upon over the course of your scientific research.\n",
    "\n",
    "Much of these lessons is inspired by the first few chapters of *Computational Physics* by Mark Newman, which is the textbook I read to learn most of what I know about coding.\n",
    "It is excellently written, and I highly recommend you check it out. Please let me know if you would like to borrow my copy. \n"
   ]
  },
  {
   "cell_type": "markdown",
   "metadata": {},
   "source": [
    "## What is coding?\n",
    "\n",
    "When we talk about \"coding\", we refer to the task of writing instructions for a computer to execute.\n",
    "This is likely familiar from your interactions in the regular world, but these instructions will be very different from those you typically give to humans.\n",
    "I think this is best illustrated by the \"exact instruction challenge\", typically for making\n",
    "a peanut butter and jelly sandwich, in which someone is tasked with giving unsparingly *exact* instructions, \n",
    "down to the most minute detail, considering every possibility in the construction of the PB&J.\n",
    "It has been popularized by introductory computer science classes.\n",
    "[Here is a brief example video from Harvard's CS50 lectures](https://www.youtube.com/watch?v=okkIyWhN0iQ).\n",
    "\n",
    "(If you just want the highlights, jump to the 5 minute mark. I think step 18 is when it gets pretty funny).\n",
    "\n",
    "\n",
    "## Coding languages\n",
    "\n",
    "Unfortunately (or fortunately?), computers are not nearly as intelligent as humans (yet?), \n",
    "so we require special, simple \"languages\" with\n",
    "rigid logic structures for conveying these detailed instructions. You have likely heard\n",
    "the names of some of these: Python, MATLAB, R, C, C++, among others. These have been designed for a\n",
    "range of various applications by clever people who have a knack for translating human-readable \n",
    "words into 1s and 0s for your computer. This is great news for us. We can focus on writing instructions,\n",
    "while the language translates everything for the computer behind the scenes.\n",
    "\n",
    "\n",
    "## Python filetypes (for the detail-oriented)\n",
    "\n",
    "This might be excessively detailed, but I think it is good to explain Python filetypes.\n",
    "As you may already know, the stuff after the \".\" in filenames is called the file extension, and it gives information \n",
    "about what the type of file is. File extensions are handy for telling your computer what program to use when you open a file.\n",
    "When you click a \".docx\", Microsoft Word opens. When you click \".txt\", a plain text editor opens. \n",
    "\n",
    "Similarly, Python has its own filetypes. The most basic is the \".py\" file. \n",
    "The actual content of this file is plain text, but the \".py\" in the name tells your computer that \n",
    "it is some kind of code/script to be executed. You can open and edit it in a plain text editor, but you probably need a special program\n",
    "to let you run it (as in, actually do stuff with it). \n",
    "\n",
    "The files we will work with are \".ipynb\"s, or iPython notebooks. Jupyter Lab is my prefered way for interfacing \n",
    "with these files. I have found that Python notebooks are handy for interactively running snippets of code one at a time using separate \"blocks\". You can also intersperse \n",
    "blocks of rich text (\"markdown\"), like this box, which is helpful for adding explanations between parts.\n",
    "You can double-click a markdown box to edit it. You hit the triangle play button at the top, or just \"shift\"-\"enter\" to execute any single block.\n",
    "A typical \".py\" file is different, just a block of Python-syntax text. You can run these from the terminal with `python my_filename.py`. This is useful for other things,\n",
    "and you may find this is better for your research purposes. For our tutorial, we'll use notebooks.\n",
    "\n",
    "## For later\n",
    "\n",
    "If you ever want to learn more, there are many nice introductions to Python online. The lessons here will be more tailored to things\n",
    "I suspect will be useful as you begin scientific research. The Python Tutorial offers a nice general set of lessons: [link](https://docs.python.org/3/tutorial/)\n",
    "\n",
    "## To the actual coding lessons\n",
    "\n",
    "This ends my obligatory introduction. Next, on to the fun stuff! \n",
    "\n",
    "This first part here may seem unusually, painstakingly meticulous. This is because of how exact we must be when communicating with the computer, so it is helpful to have a thorough base before just diving in. This also helps us get in the coding mindset. Parts 2 and 3 will be where we start doing practical applications, so I promise if you bear with me, stuff will actually get fun."
   ]
  },
  {
   "cell_type": "markdown",
   "metadata": {},
   "source": [
    "# Whet your appetite\n",
    "\n",
    "To get a taste of the things we'll do later, here is a function I've written. You can input your birthday and then find out the number of days you've been alive.\n",
    "Take a look at the structure, then try running it.\n",
    "\n"
   ]
  },
  {
   "cell_type": "code",
   "execution_count": null,
   "metadata": {},
   "outputs": [],
   "source": [
    "from datetime import date\n",
    "\n",
    "def days_alive(day, month, year):\n",
    "    '''\n",
    "    A function to compute the number of days a person has been alive, \n",
    "    as of today, based on one's birthday. Utilizes the datetime module.\n",
    "    \n",
    "    Inputs:\n",
    "    day (int) - day of birthday. Must be 0 to 31\n",
    "    month (int) - month of birthday. Must be 0 to 12\n",
    "    year (int) - year of birthday. Must be greater than 0, less than 2023.\n",
    "    \n",
    "    Outputs:\n",
    "    num_days (int) - days between input date and today    \n",
    "    \n",
    "    '''\n",
    "    \n",
    "    # start with some error checks\n",
    "    for var in [day, month, year]:\n",
    "        if type(var) != int:\n",
    "            print('each input must be an integer number')\n",
    "            return -1 \n",
    "    if day > 31:\n",
    "        print('day must be <= 31')\n",
    "        return -1\n",
    "    elif month > 12:\n",
    "        print('month must be <= 12')\n",
    "        return -1\n",
    "    elif year <= 0: \n",
    "        print('year must be > 0')\n",
    "        return -1\n",
    "    \n",
    "    # compute the difference in days\n",
    "    today = date.today()\n",
    "    dob = date(year, month, day)    # date of birth\n",
    "    num_days = (today - dob).days   # difference in days\n",
    "    \n",
    "    return num_days"
   ]
  },
  {
   "cell_type": "code",
   "execution_count": null,
   "metadata": {},
   "outputs": [],
   "source": [
    "# change these numbers to match your birthday\n",
    "day = 30\n",
    "month = 3\n",
    "year = 1998\n",
    "\n",
    "result = days_alive(day, month, year)\n",
    "print(result)"
   ]
  },
  {
   "cell_type": "markdown",
   "metadata": {},
   "source": [
    "### EX 1: Testing a function\n",
    "\n",
    "*Try running it again, with a day in the future. What happens? Why?*\n",
    "\n",
    "*Does March 32nd work? What about February 29th? What is the difference in outputs, if any?*"
   ]
  },
  {
   "cell_type": "markdown",
   "metadata": {},
   "source": [
    "(you can take notes in this block)\n",
    "\n"
   ]
  },
  {
   "cell_type": "markdown",
   "metadata": {},
   "source": [
    "# Variables and assignments\n",
    "\n",
    "The first thing we do in Python is give names to the things we want to work with. This is called \"assignment\", and it is done via the \"=\" character. The things we assign stuff to are called \"variables\", and they can be (almost) anything we want to call them. The formula for assigning a value to a variable is always this:\n",
    "\n",
    "```\n",
    "variable = thing_I_want_stored_in_the_variable \n",
    "```\n",
    "Some examples:"
   ]
  },
  {
   "cell_type": "code",
   "execution_count": null,
   "metadata": {},
   "outputs": [],
   "source": [
    "name = \"Gia\"\n",
    "height_inches = 78.0\n",
    "location = \"arrakis\""
   ]
  },
  {
   "cell_type": "markdown",
   "metadata": {},
   "source": [
    "You can also assign multiple variables to the same thing at once using a chain of \"=\" signs, or by comma separating on both sides:"
   ]
  },
  {
   "cell_type": "code",
   "execution_count": null,
   "metadata": {},
   "outputs": [],
   "source": [
    "a = b = c = 123.456\n",
    "x, y = 10, 15"
   ]
  },
  {
   "cell_type": "markdown",
   "metadata": {},
   "source": [
    "## Variable names\n",
    "\n",
    "The variable name is always on the left side of the \"=\" sign. We can't call it just anything; there are some rules for naming variables:\n",
    "\n",
    "- Names must begin with a letter or an underscore\n",
    "- Names are case sensitive\n",
    "- Names may only contain letters (upper or lowercase), numbers, and underscores\n",
    "- You cannot use spaces or other special characters (@, !, \", ,, etc.)\n",
    "- A small number of words, even if they follow these conventions, are reserved and cannot be used (more on that later)\n",
    "\n",
    "What happens if we break one of these rules? Catastrophe?"
   ]
  },
  {
   "cell_type": "code",
   "execution_count": null,
   "metadata": {},
   "outputs": [],
   "source": [
    "1_test = 1"
   ]
  },
  {
   "cell_type": "markdown",
   "metadata": {},
   "source": [
    "Our first error message, nice! So, the world does not end, and we get a helpful little message pointing out exactly where our error is and what it is (\"invalid syntax\"). In the real world, we can violate grammar rules, and there are essentially no consequences. In Python, we must follow the syntax rules, or the computer will interpret what we write as well as giberish. Fortunately error messages help guide us. This one is pretty easy, but it is good to get used to looking at these. Let's fix the issue by trying a new name."
   ]
  },
  {
   "cell_type": "code",
   "execution_count": null,
   "metadata": {},
   "outputs": [],
   "source": [
    "one_test = 1"
   ]
  },
  {
   "cell_type": "markdown",
   "metadata": {},
   "source": [
    "### EX 2: Define some variables.\n",
    "\n",
    "*In the block below, define some variables with various names. Based on the rules above, try to make some that work and some that cause error messages. If you get an error message, read it to identify which line is the source of your error.*"
   ]
  },
  {
   "cell_type": "code",
   "execution_count": null,
   "metadata": {},
   "outputs": [],
   "source": [
    "\n",
    "\n",
    "\n"
   ]
  },
  {
   "cell_type": "markdown",
   "metadata": {},
   "source": [
    "## Print statements\n",
    "\n",
    "At some point, you'll probably want to see the results of some of the coding you've done.\n",
    "This is where \"print\" statements come in.\n",
    "To print a variable, you write \"print\" with your output in parentheses, like\n",
    "`print(your_variable_here)`.\n",
    "You can print multiple things by separating the stuff in parentheses by commas:\n",
    "`print(thing1, thing2, thing3)`"
   ]
  },
  {
   "cell_type": "code",
   "execution_count": null,
   "metadata": {},
   "outputs": [],
   "source": [
    "foo = 123.101010\n",
    "bar = 'hello world'\n",
    "\n",
    "print(bar)\n",
    "print(foo, bar)\n",
    "print(foo, '---', bar)"
   ]
  },
  {
   "cell_type": "markdown",
   "metadata": {},
   "source": [
    "**Variable types**\n",
    "\n",
    "The thing assigned to the variable is always to the right of the \"=\" sign. Note I have been saying \"thing\", intentionally vague. \n",
    "Here are the types of variables most common in scientific research. Note that each has a full name, which I have written out, and a short reference name that I have written in parentheses. This is used for coding stuff later.\n",
    "\n",
    "**Numbers (int, float)**\n",
    "\n",
    "There are two types of numbers, an integer \"int\" and decimal \"float\". You define them by just typing numbers, with or without the decimal point.\n",
    "```\n",
    "integer = 365\n",
    "float = 365.0\n",
    "```\n",
    "\n",
    "**Words (str)**\n",
    "\n",
    "Words are called strings \"str\", and they string together characters. I suppose if we are being specific, strings don't have to be words at all. \n",
    "They can be any series of letters, numbers, special characters, you name it. To define them, you put whatever you want inside single or double quotation marks \n",
    "(the two are equivalent).\n",
    "```\n",
    "string1 = \"here is a string with spaces, 1s, 2s, 3s, @~!\"\n",
    "string2 = 'Or, I can use single quotes'\n",
    "string3 = 'If I want double quotes \"\" in here, I enclose with single quotes'\n",
    "string4 = \"The opposite is also true '' \"\n",
    "```\n",
    "\n",
    "**True/False (bool)**\n",
    "\n",
    "A boolean is a true or false statement. This becomes useful when comparing things. There are only two possibilities for defining a bool: True or False (no quotes, must be capitalized first letter). If you put it in quotes, it is a string.\n",
    "```\n",
    "true_bool = True\n",
    "false_bool = False\n",
    "NOT_a_bool = \"true\"\n",
    "```\n",
    "\n",
    "**Lists (lst)**\n",
    "\n",
    "You can store a bunch of variables together in a list. You use brackets and separate the values you want in it with commas. You can even combine different datatypes in a list, if you want.\n",
    "```\n",
    "x, y = 10, 15\n",
    "coordinates = [x, y]\n",
    "list_of_lists = [[\"hello\", \"world\"], [1, 2, 3], [True]]\n",
    "```\n",
    "\n",
    "**Other types**\n",
    "\n",
    "There are some other data types that you probably won't encounter much in your research.\n",
    "For completeness, [here is a list](https://www.digitalocean.com/community/tutorials/python-data-types). You can check out details there if you are interested in any of these.\n",
    "- Numeric data types: int, float, complex\n",
    "- String data types: str\n",
    "- Sequence types: list, tuple, range\n",
    "- Binary types: bytes, bytearray, memoryview\n",
    "- Mapping data type: dict\n",
    "- Boolean type: bool\n",
    "- Set data types: set, frozenset\n",
    "\n",
    "\n",
    "## Checking variable type\n",
    "You don't actually know the datatype when you define something in Python. (you can define it if you want, but that is not usual). Python knows the definition behind the scenes, and this will affect the types of operations you can do with variables, so it is good to understand your variable typing whenever you define anything. If your code gets complicated and you are unsure what a variable is, you can check it with the function `type`:"
   ]
  },
  {
   "cell_type": "code",
   "execution_count": null,
   "metadata": {},
   "outputs": [],
   "source": [
    "type(1), type(5.0), type(\"what's up\"), type(True), type([1,2,3])"
   ]
  },
  {
   "cell_type": "markdown",
   "metadata": {},
   "source": [
    "\"type\" is a function that gives some output, in this case the type name, so by writing it at the last line of a code block, it shows the output for us. We could also use print statements.\n",
    "\n",
    "The names of types can also be used as functions transform variables into other types. This is intuitive for some things\n",
    "(for example, turning an integer into a decimal or vice versa). Decimals always round down into integers. \n",
    "Booleans also correspond to 1 and 0."
   ]
  },
  {
   "cell_type": "code",
   "execution_count": null,
   "metadata": {},
   "outputs": [],
   "source": [
    "int(5.678), float(550)"
   ]
  },
  {
   "cell_type": "code",
   "execution_count": null,
   "metadata": {},
   "outputs": [],
   "source": [
    "int(True), int(False)"
   ]
  },
  {
   "cell_type": "markdown",
   "metadata": {},
   "source": [
    "But this does not work with all data types. Now it is your turn.\n",
    "\n",
    "### EX 3: Manipulating data types\n",
    "*In the block below, test out a few variables and check their types using print statements. Change their types. See what does and does not work.\n",
    "What happens if you try to transform a string into an integer?*"
   ]
  },
  {
   "cell_type": "markdown",
   "metadata": {},
   "source": [
    "\n",
    "\n",
    "\n",
    "\n"
   ]
  },
  {
   "cell_type": "markdown",
   "metadata": {},
   "source": [
    "## Reserved words\n",
    "\n",
    "As you may notice,\n",
    "some words are special and correspond to built-in uses.\n",
    "These words **should not** be used for variable names,\n",
    "because they will override the built-in use and probably cause headaches later on.\n",
    "If you try to assign one of these to a variable, it won't give you an error, so you \n",
    "technically can make them variables, but it is bad practice.\n",
    "These include the names of data types, like \"int\" and \"float\", and also the names\n",
    "of any functions (pre-defined ones like \"type\" and also any you name yourself).\n",
    "\n",
    "In addition, some words **cannot** be used for variable names, and they will give\n",
    "you an error message if you try to assign it. These words are \"reserved\" for other \n",
    "things. You can run this command to see them:"
   ]
  },
  {
   "cell_type": "code",
   "execution_count": null,
   "metadata": {},
   "outputs": [],
   "source": [
    "help(\"keywords\")"
   ]
  },
  {
   "cell_type": "markdown",
   "metadata": {},
   "source": [
    "If you ever run into trouble because you assigned a \"should not\" name to a variable, you can restart your kernel to reset everything to how it was when you started. (in Jupyter Lab, look at the \"Kernel\" tab at the top of the page)"
   ]
  },
  {
   "cell_type": "markdown",
   "metadata": {},
   "source": [
    "# Comments\n",
    "\n",
    "Sometimes it is useful to write notes within your code blocks. You saw a few of these in the example function at the beginning."
   ]
  },
  {
   "cell_type": "code",
   "execution_count": null,
   "metadata": {},
   "outputs": [],
   "source": [
    "# Comments at the top of a section of code can help\n",
    "# me to remember what the purpose of the whole snippet was.\n",
    "#\n",
    "###### I can add as many of these #s as I want.\n",
    "#\n",
    "# Nothing I write here will be executed.\n",
    "\n",
    "'''\n",
    "I can also block out multiple lines of comments\n",
    "using three quotation marks.\n",
    "\n",
    "This type of commenting is usually used for functions--\n",
    "we'll get to these shortly.\n",
    "'''\n",
    "\n",
    "\n",
    "\"\"\"Single and double quotation marks work the same.\"\"\"\n",
    "\n",
    "\n",
    "# I can also add comments to the end of a line of code. \n",
    "# EXAMPLE: adding the units of a parameter and a brief explanation.\n",
    "\n",
    "g = 9.81   # [m/s^2] acceleration of Earth's gravity \n"
   ]
  },
  {
   "cell_type": "markdown",
   "metadata": {},
   "source": [
    "You might also notice I am placing as many spaces between variables, lines, and comments, as I want. This is acceptable by Python. \n",
    "Ideally, you want to use some sort of structure to make things look nice and readable. In theory, you don't have to do this...\n",
    "The one thing that Python is very particular about is **the number of spaces at the beginning of each line**. For now, avoid spaces at the start of lines.\n",
    "We can mess with this later."
   ]
  },
  {
   "cell_type": "markdown",
   "metadata": {},
   "source": [
    "# Arithmetic \n",
    "\n",
    "Ok cool, so we have some variables. Now what? Let's put those variables to work for us by doing some math.\n",
    "\n",
    "You already know the operators we write down on paper, plus and minus signs, fractions, dots for multiplication, carrots for exponents, and so on. These usually correspond to Python operations, but not always. Here are the operators:\n",
    "\n",
    "- Addition: `x + y`\n",
    "\n",
    "- Subtraction: `x - y`\n",
    "\n",
    "- Multiplication: `x * y`\n",
    "\n",
    "- Division (float): `x / y`\n",
    "\n",
    "- Division (integer): `x // y` , this will round float division down to the nearest int.\n",
    "\n",
    "- Modulus: `x % y` , this gives the remainder when x is divided by y.\n",
    "\n",
    "- Exponents: `x ** y` , Note that you cannot use carrots ^, it must be the double asterisks.\n",
    "\n",
    "- Order of operations: (), These must be regular parentheses. Brackets [] and curly brackets {} are reserved for other things."
   ]
  },
  {
   "cell_type": "code",
   "execution_count": null,
   "metadata": {},
   "outputs": [],
   "source": [
    "# say you have a quick math problem to solve.\n",
    "# You can do operations with pre-assigned variables.\n",
    "\n",
    "m = 40.0  # mass, kg\n",
    "a = 9.81  # acceleration, m/s^2\n",
    "\n",
    "F = m*a   # force of gravity, N\n",
    "print(F)"
   ]
  },
  {
   "cell_type": "markdown",
   "metadata": {},
   "source": [
    "## Changing variable definitions.\n",
    "\n",
    "You can also use math to change earlier values of variables, using the operator you want followed by =. "
   ]
  },
  {
   "cell_type": "code",
   "execution_count": null,
   "metadata": {},
   "outputs": [],
   "source": [
    "# long way to change a variable\n",
    "x = 10\n",
    "x = x + 5\n",
    "print(x)\n",
    "\n",
    "# equivalent, short way \n",
    "x = 10\n",
    "x += 5    # operator followed by '='\n",
    "print(x)"
   ]
  },
  {
   "cell_type": "markdown",
   "metadata": {},
   "source": [
    "### EX 4: Write an equation\n",
    "*Write an equation based on some scientific principle, define variables as the input parameters, and compute the result. Add comments to keep track of each line.*\n",
    "\n",
    "*We are going to use this equation in a few more exercises, so make sure you pick one that you like.*\n",
    "\n",
    "*If you need inspiration, feel free to consult a search engine or neighbor.*"
   ]
  },
  {
   "cell_type": "code",
   "execution_count": null,
   "metadata": {},
   "outputs": [],
   "source": [
    "\n",
    "\n",
    "\n",
    " "
   ]
  },
  {
   "cell_type": "markdown",
   "metadata": {},
   "source": [
    "# Functions\n",
    "\n",
    "Writing an equation once is nice and all, but we could do that just easily by typing the same thing into a calculator. \n",
    "Plus, equations begin to get annoying when you have to re-type variables multiple times (like polynomials), or when you want to do something more complicated (with multiple steps), or repeat something (with different variables), all of which become error-prone.\n",
    "\n",
    "To solve this issue, we can organize code snippets into **functions**, like we did with our `days_alive()` example at the beginning.\n",
    "\n",
    "The word \"function\" is typically used as a noun to mean the function of a person or thing. In mathematics, it is \"a variable (such as a quality, trait, or measurement) that depends on and varies with another\" (think `f(x)`). It can also be defined as \"a computer subroutine\". I think it is best for us to think of functions as a combination of the math and computer subroutine definitions. (thank you Merriam-Webster Dictionary)\n",
    "\n",
    "Like variable assignments, we must utilize a specific syntax when creating, or \"defining\", our own functions:\n",
    "\n",
    "```\n",
    "def f(x, y):  \n",
    "    return x + y \n",
    "```\n",
    "\n",
    "Let's break that example down into the different parts:\n",
    "\n",
    "- function name: in this example, we use \"f\". You can name this whatever you want, following the rules of variable names.\n",
    "- arguments: These are the inputs to the function. You can have as many as you want, separated by commas. We use two, x and y.\n",
    "- return statement: This is the last line of a function, and it defines the output.\n",
    "\n",
    "The first line of a function definition is always `def your_function_name(your_arguments):`. The \"def\" indicates you are starting a function, then the colon finishes off the starting line. Lines underneath this must be indented by one tab or four spaces. The tab or space choice must be consistent within a single file or you get mysterious errors. Jupyter Lab is kind in that is auto-converts tabs to spaces, so you don't have to worry about that in these files.\n",
    "\n",
    "Once you define a function, you can return to writing code without the tabs, and you can \"call\" your function by writing the name (same as above) with the arguments (now whatever you want). The arguments do not have to match the variable names you chose above, like $x$ and $y$, but they do have to match the positions. There are a few ways you can do this."
   ]
  },
  {
   "cell_type": "code",
   "execution_count": null,
   "metadata": {},
   "outputs": [],
   "source": [
    "def f(x, y):\n",
    "    return x + y\n",
    "\n",
    "# here are a few options for calling functions\n",
    "\n",
    "a, b = 2, 3\n",
    "print(f(a,b))       # definiting variables and passing these as arguments\n",
    "\n",
    "print(f(2,3))       # bypassing variables, directly using numbers\n",
    "\n",
    "print(f(x=2, y=3))  # specifying arguments with '=' signs"
   ]
  },
  {
   "cell_type": "markdown",
   "metadata": {},
   "source": [
    "You can see these all give you the same results."
   ]
  },
  {
   "cell_type": "markdown",
   "metadata": {},
   "source": [
    "### EX 5: Turn your equation into a function\n",
    "*Take your earlier function and re-package it into a function. Print out the results for different arguments.*"
   ]
  },
  {
   "cell_type": "code",
   "execution_count": null,
   "metadata": {},
   "outputs": [],
   "source": [
    "\n",
    "\n",
    "\n"
   ]
  },
  {
   "cell_type": "markdown",
   "metadata": {},
   "source": [
    "## Docstrings\n",
    "\n",
    "A docstring is an optional string that you can add as the first line in a function definition. This usually contains information about what the function does and what the inputs and outputs should be (variable type and usage). You will notice many lazy programmers (including myself) bypass this step, but I really implore you to try to write docstrings as much as possible, especially for complicated functions. They are super useful for helping you parse old code that you read. You will save yourself so much time and headache.\n",
    "\n",
    "When you define a docstring, it becomes a special attribute of a function called `__doc__`. This means that you can write your function name, without parentheses, followed by `.__doc__` and get the docstring. This lets you see what your function does."
   ]
  },
  {
   "cell_type": "code",
   "execution_count": null,
   "metadata": {},
   "outputs": [],
   "source": [
    "print(days_alive.__doc__)"
   ]
  },
  {
   "cell_type": "markdown",
   "metadata": {},
   "source": [
    "## Local variables\n",
    "\n",
    "It is possible to assign variables within the scope of a function. These exist only within each function call, and Python will not be pleased if you attempt to reference them outside of a function definition. We call these \"local variables.\" In contrast, the variables we have been defining so far, outside of functions, are \"global variables.\" You can reference them anywhere--in or out of function definitions--and Python will know what you mean."
   ]
  },
  {
   "cell_type": "code",
   "execution_count": null,
   "metadata": {},
   "outputs": [],
   "source": [
    "global_var = 10\n",
    "\n",
    "def my_function(x, y):\n",
    "    '''lazy docstring'''\n",
    "    local_var = 5\n",
    "    return local_var*x + global_var*y\n",
    "\n",
    "print(my_function(5,10))  # calc the function result\n",
    "print(global_var)         # check the global variable\n",
    "print(local_var)          # check the local variable"
   ]
  },
  {
   "cell_type": "markdown",
   "metadata": {},
   "source": [
    "You see we can reference the global variable within the function no problem, but when we attempt to reference the local variable outside the function, we get an error. Notice how nicely this error message points out where the issue is!\n",
    "\n",
    "You could also re-define global variables as local variables within functions, but then things get confusing (see below). Good coding practice should avoid doing this."
   ]
  },
  {
   "cell_type": "code",
   "execution_count": null,
   "metadata": {},
   "outputs": [],
   "source": [
    "new_var = 10\n",
    "\n",
    "def my_function2(x, y):\n",
    "    new_var = 5 \n",
    "    print(new_var)       # print statement AFTER local definition\n",
    "    return new_var*(x+y)\n",
    "\n",
    "my_function2(5,10)\n",
    "\n",
    "print(new_var)"
   ]
  },
  {
   "cell_type": "code",
   "execution_count": null,
   "metadata": {},
   "outputs": [],
   "source": [
    "# same code, but with the print statement in the function moved\n",
    "\n",
    "def my_function2(x, y):\n",
    "    print(new_var)      # print statement to BEFORE local definition\n",
    "    new_var = 5\n",
    "    return new_var*(x+y)\n",
    "\n",
    "my_function2(5,10)"
   ]
  },
  {
   "cell_type": "markdown",
   "metadata": {},
   "source": [
    "Because we define `new_var` within the function, even before we re-assign it, Python treats it as a local variable in the context of the function and totally ignores the global use. Best to just give local variables their own names that do not overlap with global variable names."
   ]
  },
  {
   "cell_type": "markdown",
   "metadata": {},
   "source": [
    "## Default arguments\n",
    "\n",
    "You can also adjust the definition statement of a function to include default arguments. This means that when you call the function later, it is optional whether you define it or not. This can be helpful if you have some typical arguments, but you are not sure if you will want to change them or not later on. It is similar to defining a local variable, but it is in the definition statement."
   ]
  },
  {
   "cell_type": "code",
   "execution_count": null,
   "metadata": {},
   "outputs": [],
   "source": [
    "def F(m, a=9.81):\n",
    "    '''\n",
    "    Compute a force using Newton's 2nd law.\n",
    "    Input:\n",
    "        m = mass [kg]\n",
    "        a = acceleration [m/s^2], default = 9.81 (Earth's gravity)\n",
    "    Output:\n",
    "        force [N]\n",
    "    '''\n",
    "    return m*a\n",
    "\n",
    "mass = 50.0\n",
    "print(F(mass))         # using the default a\n",
    "print(F(mass, a=10.0)) # defining acceleration with '='\n",
    "print(F(mass, 10.0))   # defining acceleration as the 2nd variable"
   ]
  },
  {
   "cell_type": "markdown",
   "metadata": {},
   "source": [
    "If you have multiple default variables, you likely need to use the '=' call option."
   ]
  },
  {
   "cell_type": "code",
   "execution_count": null,
   "metadata": {},
   "outputs": [],
   "source": [
    "def polynomial(x, a=2.0, b=3.0, c=4.0):\n",
    "    return a*x**2 + b*x + c\n",
    "\n",
    "print(polynomial(1.5))\n",
    "print(polynomial(1.5, c=14.0))   # we want to use non-default c\n",
    "print(polynomial(1.5, 14.0))     # without 'c=', we will define new a"
   ]
  },
  {
   "cell_type": "markdown",
   "metadata": {},
   "source": [
    "### EX 6: Fancy function\n",
    "*write a new function, including a docstring and some of the local variable/default options techniques we went over. Print outputs for different inputs. Print the docstring.*"
   ]
  },
  {
   "cell_type": "code",
   "execution_count": null,
   "metadata": {},
   "outputs": [],
   "source": [
    "\n",
    "\n",
    "\n"
   ]
  },
  {
   "cell_type": "markdown",
   "metadata": {},
   "source": [
    "## Pre-existing functions\n",
    "\n",
    "Python comes with many handy functions pre-packaged in. We've already used some of these--`print()` and `type()`. We'll cover more later."
   ]
  },
  {
   "cell_type": "markdown",
   "metadata": {},
   "source": [
    "### EX: print a docstring\n",
    "Print the docstring for one of the pre-existing functions."
   ]
  },
  {
   "cell_type": "code",
   "execution_count": null,
   "metadata": {},
   "outputs": [],
   "source": [
    "\n",
    "\n",
    "\n"
   ]
  },
  {
   "cell_type": "markdown",
   "metadata": {},
   "source": [
    "As a final note, functions do not always need to return an output. Sometimes they just do things. In this case, if you try to assign an output to a function, you will get a None type. For example:"
   ]
  },
  {
   "cell_type": "code",
   "execution_count": null,
   "metadata": {},
   "outputs": [],
   "source": [
    "def hello(text):\n",
    "    print(\"Hello,\", text)\n",
    "    \n",
    "x = hello('friend')\n",
    "print(x)"
   ]
  },
  {
   "cell_type": "markdown",
   "metadata": {},
   "source": [
    "# Comparisons (==, <, >, !=)\n",
    "\n",
    "In addition to just math and variable definition operations, we can compare the values of two variables. These operator signs are similar to those we use in math, but slightly different to work with Python.\n",
    "\n",
    "- Equivalence: ==\n",
    "- Non-equivalence: !=\n",
    "- Greater than: >\n",
    "- Greater than or equal to: >=\n",
    "- Less than: <\n",
    "- Less than or equal to: <=\n",
    "\n",
    "Common errors are usually forgetting the double equal sign for equivalence. The double equal sign must be used to distinguish this comparison from variable definition, which uses the single equal sign.\n",
    "\n",
    "Here is the syntax, using equivalence as an example:\n",
    "```\n",
    "var1 == var2\n",
    "```\n",
    "\n",
    "A comparison will return a bool type (True/False). You can assign a comparison to a variable or directly print it."
   ]
  },
  {
   "cell_type": "code",
   "execution_count": null,
   "metadata": {},
   "outputs": [],
   "source": [
    "x = 10\n",
    "y = 5\n",
    "\n",
    "# direct prints\n",
    "print(x > 10)\n",
    "print(y <= 10)\n",
    "\n",
    "# assign our comparison to a variable\n",
    "comparison = x == 10\n",
    "print(comparison)"
   ]
  },
  {
   "cell_type": "markdown",
   "metadata": {},
   "source": [
    "# Non-linear logic \n",
    "\n",
    "So far we have written code line-by-line. Things become to start very automated when we get non-linear. This can be by branching into multiple options or by repeating over chunks of code, depending on whether certain conditions are met.\n",
    "\n",
    "## \"for\" and range()\n",
    "\n",
    "A \"for\" loop iterates over a specific set of variables, usually in a list. Like functions, the first line begins with a word \"for\", ends with a colon, and subsequent lines must be indented.\n",
    "```\n",
    "for var in [1,2,3,4]:\n",
    "    print(var)\n",
    "```\n",
    "\n",
    "A pre-defined Python function, `range()`, is often implemented in these loops. This function returns a \"range\" object, which for our purposes means we must use a \"for\" loop to print each element, or we must use a type conversion to a \"list\"."
   ]
  },
  {
   "cell_type": "code",
   "execution_count": null,
   "metadata": {},
   "outputs": [],
   "source": [
    "# checking what range looks like\n",
    "\n",
    "print(range(10))\n",
    "print(list(range(10)))"
   ]
  },
  {
   "cell_type": "code",
   "execution_count": null,
   "metadata": {},
   "outputs": [],
   "source": [
    "# writing some \"for\" loops without range.\n",
    "for color in ['red', 'blue', 'green']:\n",
    "    print('I like the color', color)"
   ]
  },
  {
   "cell_type": "code",
   "execution_count": null,
   "metadata": {},
   "outputs": [],
   "source": [
    "# Writing \"for\" loops with range.\n",
    "\n",
    "print(\"Here, we explicitly write each number\")\n",
    "for var in [1,2,3,4]:\n",
    "    print(var)\n",
    "    \n",
    "print(\"\\nNow we use range()\")\n",
    "for var in range(1,5):   \n",
    "    print(var)"
   ]
  },
  {
   "cell_type": "markdown",
   "metadata": {},
   "source": [
    "These give the same outputs! Take a look at the syntax for range() involves some optional parameters."
   ]
  },
  {
   "cell_type": "markdown",
   "metadata": {},
   "source": [
    "### EX 7: Using range()\n",
    "\n",
    "*Test out the results of various range() inputs. There are some optional arguments. If only there were a way to see a description of the function and its arguments... Once you figure this out, write a brief description of the syntax of range() in a markdown cell.*\n",
    "\n",
    "*After you understand this, write a \"for\" loop to compute the sum of all even numbers from 0 to 100 (including 100). This should utilize some principles we covered earlier. Try it on your own first, then check results with a buddy.*"
   ]
  },
  {
   "cell_type": "markdown",
   "metadata": {},
   "source": [
    "(describe syntax here)"
   ]
  },
  {
   "cell_type": "code",
   "execution_count": null,
   "metadata": {},
   "outputs": [],
   "source": [
    "\n",
    "\n",
    "\n"
   ]
  },
  {
   "cell_type": "markdown",
   "metadata": {},
   "source": [
    "## \"while\" loops\n",
    "\n",
    "Another way to loop over things is \"while\" loops. Unlike \"for\" loops, we do not iterate over a set of variables. Instead, we create some boolean condition, and continue looping as long as it is true. Syntax:\n",
    "```\n",
    "while your_boolean_condition:\n",
    "    do_stuff\n",
    "```\n",
    "In theory, you could write something like `while True`. This will loop infinitely. I recommend not doing this, if you are interested in getting on with your life."
   ]
  },
  {
   "cell_type": "code",
   "execution_count": null,
   "metadata": {},
   "outputs": [],
   "source": [
    "# example \"while\" loop to keep squaring a value\n",
    "\n",
    "x = 2\n",
    "i = 1\n",
    "while x < 500:   # our condition, go until x >= 500\n",
    "    print('in loop -', i, x)\n",
    "    x **= 2    # square operation\n",
    "    i += 1     # keep track of the number of loops\n",
    "    \n",
    "print('out of loop -', i, x)"
   ]
  },
  {
   "cell_type": "markdown",
   "metadata": {},
   "source": [
    "### EX 8: Using \"while\" and \"for\"\n",
    "\n",
    "*Like the last exercise, compute the sum of all even numbers from 0 to 100, this time using a \"while\" loop.*\n"
   ]
  },
  {
   "cell_type": "code",
   "execution_count": null,
   "metadata": {},
   "outputs": [],
   "source": [
    "\n",
    "\n",
    "\n"
   ]
  },
  {
   "cell_type": "markdown",
   "metadata": {},
   "source": [
    "## \"if\" statements\n",
    "Loops break linearity of code by repeating something. We can also break linearity by splitting into different pathways, using \"if\" statements. These are similar to \"while\" loops in that they utilize boolean conditions. We can add as many diverging paths as we want. \n",
    "\n",
    "1. Just one is a single \"if\".\n",
    "2. Two is \"if\" and \"else\" or \"elif\".\n",
    "3. Three or more is \"if\", \"elif\" (as many of these as you want), and/or a single \"else\".\n",
    "\n",
    "The first statements \"if\" and \"elif\" cover The syntax is:\n",
    "\n",
    "```\n",
    "if condition_1:\n",
    "    do_thing_1()\n",
    "elif condition_2:   # optional \"elif\" for a second condition\n",
    "    do_thing_2()\n",
    "elif condition_n:\n",
    "    do_thing_n()\n",
    "    .\n",
    "    .               # (insert more \"elif\"s here)\n",
    "    .\n",
    "else: # optional \"else\" to covers all other possibilities\n",
    "    do_other_things()\n",
    "```\n",
    "\n",
    "My syntax example uses functions for each \"if\" statement, but you can put anything there."
   ]
  },
  {
   "cell_type": "code",
   "execution_count": null,
   "metadata": {},
   "outputs": [],
   "source": [
    "# Check our location example, using \"if\" and \"for\"\n",
    "\n",
    "locations = ['NYC', 'Tampa Bay', 'Chicago', 'Illinois','Wichita']\n",
    "for loc in locations:\n",
    "    if loc == 'Chicago':\n",
    "        print(\"We are in this city\")\n",
    "    elif loc == 'Illinois':\n",
    "        print(\"We are in this state\")\n",
    "    else: \n",
    "        print(\"We are not in\", loc)\n",
    "        "
   ]
  },
  {
   "cell_type": "code",
   "execution_count": null,
   "metadata": {},
   "outputs": [],
   "source": [
    "# Sometimes \"if\" statements are redundant with booleans.\n",
    "\n",
    "def vote(age):\n",
    "    if age >= 18:\n",
    "        return True\n",
    "    else:\n",
    "        return False\n",
    "    \n",
    "def vote2(age):\n",
    "    return age >= 18\n",
    "\n",
    "print(vote(28), vote2(28))\n",
    "print(vote(16), vote2(16))"
   ]
  },
  {
   "cell_type": "markdown",
   "metadata": {},
   "source": [
    "### EX 9: \"if\" statements\n",
    "*Write an \"if\" statement with a few conditions. Define a few functions, and call different ones depending on the condition.*"
   ]
  },
  {
   "cell_type": "code",
   "execution_count": null,
   "metadata": {},
   "outputs": [],
   "source": [
    "\n",
    "\n",
    "\n"
   ]
  },
  {
   "cell_type": "markdown",
   "metadata": {},
   "source": [
    "# Debugging\n",
    "\n",
    "You may be familiar with the term \"bug\" to refer to errors or glitches in a program. \"Bug\" has been engineering jargon since the 1870s to describe various hardware defects. A more fun version of the origin of the term originates from Grace Hopper in the 1940s, when a software issue was traced to a moth trapped in a relay and thus causing a malfunction. This bug was carefully removed and taped to the log book. [source](https://en.wikipedia.org/wiki/Software_bug#cite_note-14)\n",
    "\n",
    "![bug](imgs/First_Computer_Bug_1945.jpg)\n",
    "\n",
    "So, we refer to the act of removing code errors as \"debugging\". This constitutes a rather large amount of one's time coding. Here are my tips:\n",
    "\n",
    "**1. Read the error messages!**\n",
    "\n",
    "I cannot emphasize this enough. When your program fails to run, Python will usually give you some helpful feedback for fixing things. In particular, it should tell you the exact line in your code that is causing the error. This is a great starting place for debugging.\n",
    "\n",
    "**2. Be exact with your syntax**\n",
    "\n",
    "Capitalization, punctuation, spacing, tabbing -- all must be perfect for the computer to understand what you mean.\n",
    "\n",
    "**3. Be exact with your instructions**\n",
    "\n",
    "The computer cannot read between the lines. If you aren't sure why your program is doing what it's doing, try getting in this ultra-precise mindset and re-read what you wrote.\n",
    "\n",
    "**4. Consider all possibilities**\n",
    "\n",
    "Sometimes you will need to use \"if\" statements to handle outlier cases. Say you write a function to add two numbers; what happens if you input an argument that is not a number? Or what if you try to open a file, but the file does not exist?\n",
    "\n",
    "**5. Use print statements at different lines**\n",
    "\n",
    "When code gets complicated, it is easy to lose track of what is equal to what and where.\n",
    "\n",
    "**6. Stack Exchange is your new best friend**\n",
    "\n",
    "If you can't solve an error yourself, copy-pasting error messages into a search engine will often be helpful, since other people have often run into the same errors that you have."
   ]
  },
  {
   "cell_type": "markdown",
   "metadata": {},
   "source": [
    "# That's all for the basics!"
   ]
  }
 ],
 "metadata": {
  "authors": [
   {
    "name": "Gia Jadick"
   }
  ],
  "kernelspec": {
   "display_name": "Python 3",
   "language": "python",
   "name": "python3"
  },
  "language_info": {
   "codemirror_mode": {
    "name": "ipython",
    "version": 3
   },
   "file_extension": ".py",
   "mimetype": "text/x-python",
   "name": "python",
   "nbconvert_exporter": "python",
   "pygments_lexer": "ipython3",
   "version": "3.8.2"
  },
  "title": "Intro to coding in science - part I - basics"
 },
 "nbformat": 4,
 "nbformat_minor": 4
}
