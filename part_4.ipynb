{
 "cells": [
  {
   "cell_type": "markdown",
   "id": "072bc362",
   "metadata": {},
   "source": [
    "As scientists, sometimes our data is 1-dimensional, measurements of a single variable as a function of some other variable, like our lymphocyte counts in part III. But often, we have complex, multi-dimensional data like  classifications of \"cancer\" or \"no cancer\" as a function of many variables.\n",
    "\n",
    "**Images** are frequently an important part of scientific research as well as a good introduction to multi-dimensional data. There are many things you might want to do with an image. Maybe you are looking at bacteria under a microscope and want to automate the process of counting individual cells. Maybe you are looking at a cancer patient and want to locate and classify a tumor. Maybe you want to measure the image quality achievable with some camera. There are many complex things you could do for these tasks. If you expect to work with more biomedical imaging data, I recommend [this tutorial](https://sakibreza.github.io/biomedical/).\n",
    "\n",
    "Images are just 2D arrays. A stack of images, like a multi-row CT scan, is a 3D array. If you deal with medical images, you might need to read DICOM files, for which I recommend checking out the [pydicom library](https://pydicom.github.io/). For our purposes, we will start with images read from numpy files. \n",
    "\n",
    "In part IV, we'll introduce some basic tasks for working with image data.\n"
   ]
  },
  {
   "cell_type": "code",
   "execution_count": null,
   "id": "01c39fdf",
   "metadata": {},
   "outputs": [],
   "source": [
    "import numpy as np\n",
    "import matplotlib.pyplot as plt\n",
    "import imageio"
   ]
  },
  {
   "cell_type": "markdown",
   "id": "af44a5af",
   "metadata": {},
   "source": [
    "# Reading images\n",
    "\n",
    "There are two main types of images you will encounter: **grayscale** (a single 2D image) and **RGB** (a 3D array of the 2D images corresponding to the red, green, and blue color channels). \n",
    "\n",
    "**Grayscale images**\n",
    "\n",
    "In medical imaging, we usually work with grayscale. These might be saved as text files, numpy files, or something else. We'll work with a numpy file example. This requires you know the target image shape, so it is good to try to include this in the filename.\n",
    "```\n",
    "img_gray = np.fromfile(filename, datatype)\n",
    "img_gray = img_gray.reshape([num_rows, num_columns])\n",
    "```\n",
    "\n",
    "**RGB images**\n",
    "\n",
    "Your everyday filetypes like .jpg and .png will have the three color channels. We can read them into a 3D array using `imageio.v2.imread`, then isolate each channel into its own 2D array using slicing. Most of these formats already have the image shape stored, so you don't need to reshape.\n",
    "Apparently there is a `v2` submodule of `imageio` that you should use to avoid getting a warning message.\n",
    "```\n",
    "img_rgb = imageio.v2.imread(filename)\n",
    "reds =   img_rgb[:,:,0]\n",
    "blues =  img_rgb[:,:,1]\n",
    "greens = img_rgb[:,:,2]\n",
    "```\n",
    "\n",
    "### <mark>EX 4.1 - Opening images with NumPy and imageio</mark>\n",
    "*Image from [\"AI Accurately Detects Lung Cancer in Scans\", The Scientist, 2019](https://www.the-scientist.com/news-opinion/ai-accurately-detects-lung-cancer-in-scans-65914)*\n",
    "\n",
    "*Using the block below, read in the image \"lung_1248x1783.npy\" (or \".jpg\") in grayscale and RGB. Based on the name, the shape should be [1248, 1783]. Try printing out the images.*"
   ]
  },
  {
   "cell_type": "code",
   "execution_count": null,
   "id": "e8ead871",
   "metadata": {},
   "outputs": [],
   "source": [
    "# grayscale\n",
    "img_gray = np.fromfile('data/lung_1248x1783.npy', dtype=float)\n",
    "img_gray = img_gray.reshape([1248, 1783])\n",
    "\n",
    "# rgb\n",
    "img_rgb = imageio.v2.imread('data/lung_1248x1783.jpg')\n",
    "reds =   img_rgb[:,:,0]\n",
    "blues =  img_rgb[:,:,1]\n",
    "greens = img_rgb[:,:,2]"
   ]
  },
  {
   "cell_type": "code",
   "execution_count": null,
   "id": "9e49ac8e",
   "metadata": {},
   "outputs": [],
   "source": [
    "\n",
    "\n",
    "\n"
   ]
  },
  {
   "cell_type": "markdown",
   "id": "543893dd",
   "metadata": {},
   "source": [
    "# Showing images\n",
    "\n",
    "Rather than use prints, we can use matplotlib to show an image or heatmap of a 2D array using the function `plt.imshow(array_2D)`. This has some optional arguments:\n",
    "- `cmap` - the color mapping to use, which gives the color to show corresponding to each number value in the array. Default is \"viridis\". I recommend using \"gray\" (grayscale). See more [here](https://matplotlib.org/stable/tutorials/colors/colormaps.html).\n",
    "- `vmin` - the minimum intensity value to show. All numbers at and below this value will be the same, lowest cmap color (black in grayscale).\n",
    "- `vmax` - the maximum intensity value to show. All numbers at and above this value will be the same, highest cmap color (white in grayscale).\n",
    "\n",
    "When I plot images, I also like to turn off the axis ticks using `ax.axis('off')`."
   ]
  },
  {
   "cell_type": "code",
   "execution_count": null,
   "id": "b52e4a01",
   "metadata": {},
   "outputs": [],
   "source": [
    "# RGB\n",
    "fig, ax = plt.subplots(1,3,figsize=[9,2], dpi=300)\n",
    "# We'll denote each channel with a different colormap.\n",
    "# I added a negative sign before each image to invert the colormap.\n",
    "ax[0].imshow(-reds, cmap='Reds')\n",
    "ax[1].imshow(-greens, cmap='Greens')\n",
    "ax[2].imshow(-blues, cmap='Blues')\n",
    "for i in range(3):\n",
    "    ax[i].axis('off')\n",
    "fig.suptitle('RGB')\n",
    "plt.show()\n",
    "\n",
    "# grayscale\n",
    "fig, ax = plt.subplots(1,1,figsize=[2.5,2], dpi=300)\n",
    "ax.imshow(img_gray, cmap='gray')\n",
    "ax.axis('off')\n",
    "ax.set_title('grayscale',fontsize=6)\n",
    "plt.show()\n"
   ]
  },
  {
   "cell_type": "markdown",
   "id": "a64f1439",
   "metadata": {},
   "source": [
    "<mark>*Now that you see the image, does anything look suspicious?*</mark>"
   ]
  },
  {
   "cell_type": "markdown",
   "id": "4d48fac4",
   "metadata": {},
   "source": [
    "We'll move forward with our grayscale image, but now you know how to handle RGB data.\n",
    "\n",
    "# Cropping\n",
    "\n",
    "You can crop images using 2D slicing, just like we learned before. You can plot your image with a grid to get a better look at where each index falls."
   ]
  },
  {
   "cell_type": "code",
   "execution_count": null,
   "id": "94e92562",
   "metadata": {},
   "outputs": [],
   "source": [
    "plt.imshow(img_gray, cmap='gray')\n",
    "plt.grid()\n",
    "plt.show()"
   ]
  },
  {
   "cell_type": "markdown",
   "id": "fbc58b24",
   "metadata": {},
   "source": [
    "### <mark>EX 4.2 - Crop an image</mark>\n",
    "\n",
    "*Create a new array containing a cropped image around the suspicious lesion. Minimize the amount of surrounding tissue (brighter intensities) shown without cropping out any of the lesion. Plot your result.*"
   ]
  },
  {
   "cell_type": "code",
   "execution_count": null,
   "id": "c051f5ca",
   "metadata": {},
   "outputs": [],
   "source": []
  },
  {
   "cell_type": "markdown",
   "id": "09595865",
   "metadata": {},
   "source": [
    "## Intensity histograms and windowing\n",
    "\n",
    "A histogram is a way to approximately visualize the distribution of numerical data. If you have not yet encountered them, Wikipedia has a nice overview [here](https://en.wikipedia.org/wiki/Histogram). This is useful for image analysis \n",
    "\n",
    "We can plot a histogram using the matplotlib `hist(array_1d)` function. We must pass in a 1D array, so to get an image histogram, we need to flatten it first. There is an optional argument `bins` where we can specify a number of bins or the values of the bins."
   ]
  },
  {
   "cell_type": "code",
   "execution_count": null,
   "id": "007c1d48",
   "metadata": {},
   "outputs": [],
   "source": [
    "num_bins = 100\n",
    "fig, ax = plt.subplots(1,1,dpi=300, figsize=[6,3])\n",
    "ax.hist(img_gray.flatten(), bins=num_bins, color='blue')\n",
    "ax.set_ylabel('counts')\n",
    "ax.set_xlabel('pixel intensities')\n",
    "ax.set_title('Histogram of pixel intensities')\n",
    "plt.show()"
   ]
  },
  {
   "cell_type": "markdown",
   "id": "60b269be",
   "metadata": {},
   "source": [
    "Play around with `num_bins` to see different distributions. \n",
    "\n",
    "We can use this intensity histogram to inform our choices for `vmin` and `vmax` as described above. These are related to the intensity **window width (WW)** and **window level (WL)** by the following relations:\n",
    "$$\n",
    "WW = \\text{vmax} - \\text{vmin}\n",
    "$$\n",
    "$$\n",
    "WL = \\frac{\\text{vmax} + \\text{vmin}}{2}\n",
    "$$\n",
    "\n",
    "or equivalently:\n",
    "$$\n",
    "\\text{vmax} = WL + WW/2\n",
    "$$\n",
    "$$\n",
    "\\text{vmin} = WL - WW/2\n",
    "$$\n",
    "\n",
    "Changing these values is known as **windowing**. You are moving the \"window\" to view different intensity values. Even though matplotlib uses vmin and vmax, in medical imaging, radiologists will speak in terms of window width and level, so we adopt this terminology here.\n",
    "\n",
    "### <mark>EX 4.3 - Window an image</mark>\n",
    "\n",
    "*Below is a function for visualizing the effects of different windows and levels in histogram and image space. The following block has a \"for\" loop demonstrating some outputs for various window width/level arguments.\n",
    "1. Run the two blocks of code and observe the outputs.\n",
    "2. Try out more values of WW/WL. Hold one variable constant so you can observe the effect of WW and WL alone.\n",
    "3. What visually changes with WW? With WL?"
   ]
  },
  {
   "cell_type": "code",
   "execution_count": null,
   "id": "c1ed70f3",
   "metadata": {},
   "outputs": [],
   "source": [
    "def window_img(img, WW, WL, nbins):\n",
    "    '''\n",
    "    a function to plot an image and corresponding histogram \n",
    "    at the given window width (WW) and window level (WL)\n",
    "    '''\n",
    "    # convert WL, WW\n",
    "    vmax = WL + WW/2\n",
    "    vmin = WL - WW/2\n",
    "    \n",
    "    # initialize the subplots\n",
    "    fig, ax = plt.subplots(1, 2, figsize=[8,3.5], dpi=300, width_ratios=[1,2])\n",
    "\n",
    "    # plot histogram first\n",
    "    data = img.flatten()\n",
    "    data_windowed = data[np.where((data > vmin) & (data < vmax))]\n",
    "    bins = np.linspace(np.min(data), np.max(data), nbins)  # use the same bins for both histograms\n",
    "\n",
    "    ax[0].hist(data, bins=bins, color='gray', alpha=0.5, label='all intensities')\n",
    "    ax[0].hist(data_windowed, bins=bins, color='r', alpha=0.7, label='displayed intensities')\n",
    "    ax[0].legend()\n",
    "    ax[0].set_title('Pixel values')\n",
    "    ax[0].set_yticks([]) # remove y axis\n",
    "\n",
    "    # plot image\n",
    "    m = ax[1].imshow(img, vmin=vmin, vmax=vmax, cmap='gray')\n",
    "    ax[1].axis('off')\n",
    "    ax[1].set_title(f'Windowed image (WL/WW = {WL}/{WW})')\n",
    "    fig.colorbar(m, ax=ax[1])\n",
    "\n",
    "    fig.tight_layout()\n",
    "    plt.show()\n",
    "\n",
    "    return None"
   ]
  },
  {
   "cell_type": "code",
   "execution_count": null,
   "id": "b0ea2083",
   "metadata": {},
   "outputs": [],
   "source": [
    "# set the number of histogram bins\n",
    "nbins=100\n",
    "\n",
    "# iterate over window levels and window widths\n",
    "for WW, WL in [[300, 125]\n",
    "                [50, 125]\n",
    "                [50, 40]\n",
    "                [50, 210]]:\n",
    "    window_img(img_gray, WL, WW, nbins)"
   ]
  },
  {
   "cell_type": "markdown",
   "id": "a46b957d",
   "metadata": {},
   "source": [
    "Each image's new appearance corresponds to a sort of \"window\" moving along the histogram intensities, hence the name \"windowing\"."
   ]
  },
  {
   "cell_type": "markdown",
   "id": "fcc9483c",
   "metadata": {},
   "source": [
    "# Masking\n",
    "\n",
    "You can start using conditions to manipulate images. We can create a **mask**, a new image the same shape as our old image, where each pixel value corresponds to the boolean result of some condition. In medical imaging, you may hear about \"segmenting\" different regions of an image. For example, you might want to only look at a suspicious mass, or the lungs, or some other body region. This is done with masking.\n",
    "\n",
    "Numpy has a nice module `ma` for dealing with masks. We can use the `np.ma.masked_where` function to create a mask_array object for one or more conditions:\n",
    "```\n",
    "mask_array = np.ma.masked_where(condition, img)          # single condition\n",
    "mask_array = np.ma.masked_where((cond1) & (cond2), img)  # two or more conditions\n",
    "```\n",
    "Each `condition` should be some boolean dealing with `img`, like `img > 101.5` or `img != 55`. Even though `img` is an array, this comparison is element-wise.\n",
    "\n",
    "The output object `mask_array` has two main attributes we want to understand:\n",
    "- `data` - the original array\n",
    "- `mask` - the mask\n",
    "\n",
    "See below for an example."
   ]
  },
  {
   "cell_type": "code",
   "execution_count": null,
   "id": "10244c88",
   "metadata": {},
   "outputs": [],
   "source": [
    "# create a mask of values above 100 and below 200\n",
    "mask_array = np.ma.masked_where((img_gray > 100) & (img_gray < 200), img_gray)\n",
    "data = mask_array.data\n",
    "mask = mask_array.mask\n",
    "\n",
    "# show the data and mask attributes\n",
    "fig, ax = plt.subplots(1, 2, figsize=[8,3], dpi=300)\n",
    "ax[0].imshow(data, cmap='gray')\n",
    "ax[0].set_title('Data')\n",
    "ax[1].imshow(mask, cmap='gray')\n",
    "ax[1].set_title('Mask')\n",
    "for axi in ax:\n",
    "    axi.axis('off')\n",
    "fig.tight_layout()\n",
    "plt.show()"
   ]
  },
  {
   "cell_type": "markdown",
   "id": "15e34724",
   "metadata": {},
   "source": [
    "**Manually create a mask**.\n",
    "You can also create your own mask by initializing a numpy array of the same shape as your image with `dtype=bool`. 0 is False, 1 is True. You can use indexing and slicing to change the values to what you want.\n",
    "\n",
    "**Extract mask values**.\n",
    "You can apply the mask to your data to extract the data values ONLY corresponding to the locations where the mask is True. The syntax looks like:\n",
    "```\n",
    "mask_values = data[mask]\n",
    "```\n",
    "where `data` and `mask` must be the same shape, but `mask_values` will be a 1D array.\n",
    "\n",
    "This can be useful if you want to compute the average or standard deviation values in a specific area."
   ]
  },
  {
   "cell_type": "markdown",
   "id": "7fc70718",
   "metadata": {},
   "source": [
    "### <mark>EX 4.4 - Analyze an image </mark>\n",
    "*Using your cropped image from before:*\n",
    "1. Create a mask of the lesion\n",
    "2. Compute the mean and standard deviation intensity in the lesion"
   ]
  },
  {
   "cell_type": "markdown",
   "id": "b2d909bb",
   "metadata": {},
   "source": [
    "## Drawing ROIs\n",
    "\n",
    "Masks are nice for dealing with pixels that correspond to a specific condition, letting us handle unusual shapes in the image. But sometimes a plain old rectangle will do. We can also extract **regions of interest (ROIs)** from our images for this purpose. \n",
    "\n",
    "The ROIs themselves are just cropped images, like the one you created earlier. For scientific figures, it is often useful to visualize this on an image. Matplotlib has a nice module `patches` we can use for this purpose. (Note the absence of dot pyplot here!)"
   ]
  },
  {
   "cell_type": "code",
   "execution_count": null,
   "id": "d2e58b33",
   "metadata": {},
   "outputs": [],
   "source": [
    "from matplotlib import patches"
   ]
  },
  {
   "cell_type": "code",
   "execution_count": null,
   "id": "5ae1e2fa",
   "metadata": {},
   "outputs": [],
   "source": [
    "x0, y0 = 500, 200   # coordinates of upper left corner of ROI\n",
    "dx, dy = 100, 500   # width (x), height (y)\n",
    "\n",
    "# initialize plot\n",
    "fig, ax = plt.subplots(1,1)\n",
    "ax.imshow(img_gray, cmap='gray')\n",
    "\n",
    "# create and add a rectangular patch as the ROI\n",
    "rect = patches.Rectangle((x0, y0), dx, dy, linewidth=1, edgecolor='red', facecolor='none')\n",
    "ax.add_patch(rect)\n",
    "\n",
    "# show\n",
    "plt.show()"
   ]
  },
  {
   "cell_type": "markdown",
   "id": "f04b1c73",
   "metadata": {},
   "source": [
    "### <mark>EX 4.5 - Use ROIs to measure image quality </mark>\n",
    "*The contrast-to-noise ratio (CNR) is a metric for assessing image quality. It tells you how well a signal, like a suspicious lesion, stands out from the background in an image. It also accounts for noise, or speckling (imagine a staticky TV screen), in an image. If there is a lot of noise, it doesn't matter how much contrast you have, because it is lost to the speckling. A higher CNR means better images.*\n",
    "\n",
    "1. Draw an ROI **inside** the lesion volume. This is your \"signal\".\n",
    "2. Draw a second ROI **outside** the lesion in the surrounding lung. This is the \"background\".\n",
    "3. Compute the mean ($\\mu$) and standard deviation ($\\sigma$) in each ROI.\n",
    "4. Calculate the contrast-to-noise ratio (CNR):\n",
    "$$\n",
    "CNR = \\frac{\\mu_{\\text{signal}} - \\mu_{\\text{background}}}\n",
    "{\\sqrt{\\sigma_{\\text{signal}}^2 + \\sigma_{\\text{background}}^2}}\n",
    "$$\n",
    "\n"
   ]
  },
  {
   "cell_type": "code",
   "execution_count": null,
   "id": "21213cc7",
   "metadata": {},
   "outputs": [],
   "source": [
    "\n",
    "\n",
    "\n"
   ]
  }
 ],
 "metadata": {
  "authors": [
   {
    "name": "Gia Jadick"
   }
  ],
  "kernelspec": {
   "display_name": "Python 3",
   "language": "python",
   "name": "python3"
  },
  "language_info": {
   "codemirror_mode": {
    "name": "ipython",
    "version": 3
   },
   "file_extension": ".py",
   "mimetype": "text/x-python",
   "name": "python",
   "nbconvert_exporter": "python",
   "pygments_lexer": "ipython3",
   "version": "3.8.2"
  },
  "title": "Intro to coding in science - part IV - Images"
 },
 "nbformat": 4,
 "nbformat_minor": 5
}
